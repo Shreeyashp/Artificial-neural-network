{
  "nbformat": 4,
  "nbformat_minor": 0,
  "metadata": {
    "colab": {
      "provenance": [],
      "collapsed_sections": []
    },
    "kernelspec": {
      "name": "python3",
      "display_name": "Python 3"
    },
    "language_info": {
      "name": "python"
    }
  },
  "cells": [
    {
      "cell_type": "code",
      "execution_count": 3,
      "metadata": {
        "colab": {
          "base_uri": "https://localhost:8080/"
        },
        "id": "Vf_PfBoAtouU",
        "outputId": "858df9c9-59d9-4a52-fb1a-bee9a92e1e1d"
      },
      "outputs": [
        {
          "output_type": "stream",
          "name": "stdout",
          "text": [
            "The tensorboard extension is already loaded. To reload it, use:\n",
            "  %reload_ext tensorboard\n"
          ]
        }
      ],
      "source": [
        "import os\n",
        "import tensorflow as tf\n",
        "import numpy as np\n",
        "import matplotlib.pyplot as plt\n",
        "import seaborn as sns\n",
        "plt.style.use(\"fivethirtyeight\")\n",
        "%load_ext tensorboard"
      ]
    },
    {
      "cell_type": "code",
      "source": [
        "(X_train_full, y_train_full), (X_test, y_test) = tf.keras.datasets.fashion_mnist.load_data()\n",
        "X_train_full = X_train_full / 255.0\n",
        "X_test = X_test / 255.0\n",
        "X_valid, X_train = X_train_full[:5000], X_train_full[5000:]\n",
        "y_valid, y_train = y_train_full[:5000], y_train_full[5000:]"
      ],
      "metadata": {
        "colab": {
          "base_uri": "https://localhost:8080/"
        },
        "id": "rgTLtYwztwsa",
        "outputId": "fceea82b-a220-43e2-a2bf-01fd9d41977f"
      },
      "execution_count": 4,
      "outputs": [
        {
          "output_type": "stream",
          "name": "stdout",
          "text": [
            "Downloading data from https://storage.googleapis.com/tensorflow/tf-keras-datasets/train-labels-idx1-ubyte.gz\n",
            "32768/29515 [=================================] - 0s 0us/step\n",
            "40960/29515 [=========================================] - 0s 0us/step\n",
            "Downloading data from https://storage.googleapis.com/tensorflow/tf-keras-datasets/train-images-idx3-ubyte.gz\n",
            "26427392/26421880 [==============================] - 0s 0us/step\n",
            "26435584/26421880 [==============================] - 0s 0us/step\n",
            "Downloading data from https://storage.googleapis.com/tensorflow/tf-keras-datasets/t10k-labels-idx1-ubyte.gz\n",
            "16384/5148 [===============================================================================================] - 0s 0us/step\n",
            "Downloading data from https://storage.googleapis.com/tensorflow/tf-keras-datasets/t10k-images-idx3-ubyte.gz\n",
            "4423680/4422102 [==============================] - 0s 0us/step\n",
            "4431872/4422102 [==============================] - 0s 0us/step\n"
          ]
        }
      ]
    },
    {
      "cell_type": "code",
      "source": [
        "tf.random.set_seed(42)\n",
        "np.random.seed(42)\n",
        "\n",
        "LAYERS = [ tf.keras.layers.Flatten(input_shape=[28, 28]),\n",
        "    tf.keras.layers.Dense(300, kernel_initializer=\"he_normal\"),\n",
        "    tf.keras.layers.LeakyReLU(),\n",
        "    tf.keras.layers.Dense(100, kernel_initializer=\"he_normal\"),\n",
        "    tf.keras.layers.LeakyReLU(),\n",
        "    tf.keras.layers.Dense(10, activation=\"softmax\")]\n",
        "\n",
        "\n",
        "model = tf.keras.models.Sequential(LAYERS)\n"
      ],
      "metadata": {
        "id": "QpPkYhvVtzBS"
      },
      "execution_count": 5,
      "outputs": []
    },
    {
      "cell_type": "code",
      "source": [
        "model.compile(loss=\"sparse_categorical_crossentropy\",\n",
        "              optimizer=tf.keras.optimizers.SGD(lr=1e-3),\n",
        "              metrics=[\"accuracy\"])"
      ],
      "metadata": {
        "colab": {
          "base_uri": "https://localhost:8080/"
        },
        "id": "GDQDpJ-7t40a",
        "outputId": "1c045197-baa8-4865-ecb1-0e7a0dc4547b"
      },
      "execution_count": 6,
      "outputs": [
        {
          "output_type": "stream",
          "name": "stderr",
          "text": [
            "/usr/local/lib/python3.7/dist-packages/keras/optimizer_v2/gradient_descent.py:102: UserWarning: The `lr` argument is deprecated, use `learning_rate` instead.\n",
            "  super(SGD, self).__init__(name, **kwargs)\n"
          ]
        }
      ]
    },
    {
      "cell_type": "code",
      "source": [
        "model.summary()\n"
      ],
      "metadata": {
        "colab": {
          "base_uri": "https://localhost:8080/"
        },
        "id": "OCTT7aHlt8AJ",
        "outputId": "073fd9fc-2f59-499f-f9f7-a2db5257d383"
      },
      "execution_count": 7,
      "outputs": [
        {
          "output_type": "stream",
          "name": "stdout",
          "text": [
            "Model: \"sequential\"\n",
            "_________________________________________________________________\n",
            " Layer (type)                Output Shape              Param #   \n",
            "=================================================================\n",
            " flatten (Flatten)           (None, 784)               0         \n",
            "                                                                 \n",
            " dense (Dense)               (None, 300)               235500    \n",
            "                                                                 \n",
            " leaky_re_lu (LeakyReLU)     (None, 300)               0         \n",
            "                                                                 \n",
            " dense_1 (Dense)             (None, 100)               30100     \n",
            "                                                                 \n",
            " leaky_re_lu_1 (LeakyReLU)   (None, 100)               0         \n",
            "                                                                 \n",
            " dense_2 (Dense)             (None, 10)                1010      \n",
            "                                                                 \n",
            "=================================================================\n",
            "Total params: 266,610\n",
            "Trainable params: 266,610\n",
            "Non-trainable params: 0\n",
            "_________________________________________________________________\n"
          ]
        }
      ]
    },
    {
      "cell_type": "markdown",
      "source": [
        "# BN approach one"
      ],
      "metadata": {
        "id": "nvCAu48uu8C2"
      }
    },
    {
      "cell_type": "code",
      "source": [
        "del model"
      ],
      "metadata": {
        "id": "0UCPxVXHuwVV"
      },
      "execution_count": 8,
      "outputs": []
    },
    {
      "cell_type": "code",
      "source": [
        "LAYERS_BN = [\n",
        "    tf.keras.layers.Flatten(input_shape=[28, 28]),\n",
        "    tf.keras.layers.BatchNormalization(),\n",
        "    tf.keras.layers.Dense(300, activation=\"relu\"),\n",
        "    tf.keras.layers.BatchNormalization(),\n",
        "    tf.keras.layers.Dense(100, activation=\"relu\"),\n",
        "    tf.keras.layers.BatchNormalization(),\n",
        "    tf.keras.layers.Dense(10, activation=\"softmax\")\n",
        "]\n",
        "\n",
        "model = tf.keras.models.Sequential(LAYERS_BN)"
      ],
      "metadata": {
        "id": "yQ70n_gNuyz7"
      },
      "execution_count": 9,
      "outputs": []
    },
    {
      "cell_type": "code",
      "source": [
        "model.summary()"
      ],
      "metadata": {
        "colab": {
          "base_uri": "https://localhost:8080/"
        },
        "id": "gum_JrF-vDbA",
        "outputId": "620630cb-6f0d-4dca-cea6-deeadb783c51"
      },
      "execution_count": 10,
      "outputs": [
        {
          "output_type": "stream",
          "name": "stdout",
          "text": [
            "Model: \"sequential_1\"\n",
            "_________________________________________________________________\n",
            " Layer (type)                Output Shape              Param #   \n",
            "=================================================================\n",
            " flatten_1 (Flatten)         (None, 784)               0         \n",
            "                                                                 \n",
            " batch_normalization (BatchN  (None, 784)              3136      \n",
            " ormalization)                                                   \n",
            "                                                                 \n",
            " dense_3 (Dense)             (None, 300)               235500    \n",
            "                                                                 \n",
            " batch_normalization_1 (Batc  (None, 300)              1200      \n",
            " hNormalization)                                                 \n",
            "                                                                 \n",
            " dense_4 (Dense)             (None, 100)               30100     \n",
            "                                                                 \n",
            " batch_normalization_2 (Batc  (None, 100)              400       \n",
            " hNormalization)                                                 \n",
            "                                                                 \n",
            " dense_5 (Dense)             (None, 10)                1010      \n",
            "                                                                 \n",
            "=================================================================\n",
            "Total params: 271,346\n",
            "Trainable params: 268,978\n",
            "Non-trainable params: 2,368\n",
            "_________________________________________________________________\n"
          ]
        }
      ]
    },
    {
      "cell_type": "code",
      "source": [
        "784 * 4, 300 * 4, 100*4 # mean, variance, gamma and beta... mean and variance ar non paraameters"
      ],
      "metadata": {
        "colab": {
          "base_uri": "https://localhost:8080/"
        },
        "id": "nFmBr-GnvGSk",
        "outputId": "8a075b2e-9231-4ca4-a356-20f034da22ba"
      },
      "execution_count": 11,
      "outputs": [
        {
          "output_type": "execute_result",
          "data": {
            "text/plain": [
              "(3136, 1200, 400)"
            ]
          },
          "metadata": {},
          "execution_count": 11
        }
      ]
    },
    {
      "cell_type": "code",
      "source": [
        "sum([3136, 1200, 400])"
      ],
      "metadata": {
        "colab": {
          "base_uri": "https://localhost:8080/"
        },
        "id": "F7Nn8-4cvJhr",
        "outputId": "2195455b-86a8-44a6-c012-f8781648ee0e"
      },
      "execution_count": 12,
      "outputs": [
        {
          "output_type": "execute_result",
          "data": {
            "text/plain": [
              "4736"
            ]
          },
          "metadata": {},
          "execution_count": 12
        }
      ]
    },
    {
      "cell_type": "code",
      "source": [
        "266610 + 4736"
      ],
      "metadata": {
        "colab": {
          "base_uri": "https://localhost:8080/"
        },
        "id": "hJI2vDHsvfkQ",
        "outputId": "e3c97f8d-3b32-4494-c251-d3c4c977e794"
      },
      "execution_count": 13,
      "outputs": [
        {
          "output_type": "execute_result",
          "data": {
            "text/plain": [
              "271346"
            ]
          },
          "metadata": {},
          "execution_count": 13
        }
      ]
    },
    {
      "cell_type": "code",
      "source": [
        "4736/2 # out of 4 we only train gamma and beta, and mean, variance are calculated internally"
      ],
      "metadata": {
        "colab": {
          "base_uri": "https://localhost:8080/"
        },
        "id": "4Q2UelMdv-rw",
        "outputId": "067a0fc0-e4b7-490d-fe62-ef0ccfc1d009"
      },
      "execution_count": 14,
      "outputs": [
        {
          "output_type": "execute_result",
          "data": {
            "text/plain": [
              "2368.0"
            ]
          },
          "metadata": {},
          "execution_count": 14
        }
      ]
    },
    {
      "cell_type": "code",
      "source": [
        "bn1 = model.layers[1]\n",
        "bn1"
      ],
      "metadata": {
        "colab": {
          "base_uri": "https://localhost:8080/"
        },
        "id": "b65xnKqRwBi3",
        "outputId": "ae379b52-5382-4b0d-cd0d-227e1e9c33a3"
      },
      "execution_count": 15,
      "outputs": [
        {
          "output_type": "execute_result",
          "data": {
            "text/plain": [
              "<keras.layers.normalization.batch_normalization.BatchNormalization at 0x7f29279dcd50>"
            ]
          },
          "metadata": {},
          "execution_count": 15
        }
      ]
    },
    {
      "cell_type": "code",
      "source": [
        "for variable in bn1.variables:\n",
        "  print(variable.name, variable.trainable)"
      ],
      "metadata": {
        "colab": {
          "base_uri": "https://localhost:8080/"
        },
        "id": "uuNSiAyqwJMp",
        "outputId": "4ba00907-b5a3-46fa-aa18-de8e9e778e80"
      },
      "execution_count": 16,
      "outputs": [
        {
          "output_type": "stream",
          "name": "stdout",
          "text": [
            "batch_normalization/gamma:0 True\n",
            "batch_normalization/beta:0 True\n",
            "batch_normalization/moving_mean:0 False\n",
            "batch_normalization/moving_variance:0 False\n"
          ]
        }
      ]
    },
    {
      "cell_type": "code",
      "source": [
        "model.compile(loss=\"sparse_categorical_crossentropy\",\n",
        "              optimizer=tf.keras.optimizers.SGD(lr=1e-3),\n",
        "              metrics=[\"accuracy\"])"
      ],
      "metadata": {
        "id": "Zr1EwWnNwOXn"
      },
      "execution_count": 17,
      "outputs": []
    },
    {
      "cell_type": "code",
      "source": [
        "history = model.fit(X_train, y_train, epochs=10,\n",
        "                    validation_data=(X_valid, y_valid), verbose=2)"
      ],
      "metadata": {
        "colab": {
          "base_uri": "https://localhost:8080/"
        },
        "id": "DhxGG9AcwTzr",
        "outputId": "31a7640a-632f-4c8b-b617-e9fb2d2e1b7d"
      },
      "execution_count": 18,
      "outputs": [
        {
          "output_type": "stream",
          "name": "stdout",
          "text": [
            "Epoch 1/10\n",
            "1719/1719 - 11s - loss: 0.8293 - accuracy: 0.7222 - val_loss: 0.5539 - val_accuracy: 0.8156 - 11s/epoch - 7ms/step\n",
            "Epoch 2/10\n",
            "1719/1719 - 9s - loss: 0.5703 - accuracy: 0.8036 - val_loss: 0.4792 - val_accuracy: 0.8380 - 9s/epoch - 5ms/step\n",
            "Epoch 3/10\n",
            "1719/1719 - 9s - loss: 0.5161 - accuracy: 0.8215 - val_loss: 0.4425 - val_accuracy: 0.8496 - 9s/epoch - 5ms/step\n",
            "Epoch 4/10\n",
            "1719/1719 - 9s - loss: 0.4788 - accuracy: 0.8315 - val_loss: 0.4214 - val_accuracy: 0.8560 - 9s/epoch - 5ms/step\n",
            "Epoch 5/10\n",
            "1719/1719 - 9s - loss: 0.4547 - accuracy: 0.8405 - val_loss: 0.4051 - val_accuracy: 0.8616 - 9s/epoch - 5ms/step\n",
            "Epoch 6/10\n",
            "1719/1719 - 9s - loss: 0.4386 - accuracy: 0.8443 - val_loss: 0.3932 - val_accuracy: 0.8632 - 9s/epoch - 6ms/step\n",
            "Epoch 7/10\n",
            "1719/1719 - 9s - loss: 0.4254 - accuracy: 0.8504 - val_loss: 0.3830 - val_accuracy: 0.8648 - 9s/epoch - 5ms/step\n",
            "Epoch 8/10\n",
            "1719/1719 - 9s - loss: 0.4123 - accuracy: 0.8539 - val_loss: 0.3760 - val_accuracy: 0.8672 - 9s/epoch - 5ms/step\n",
            "Epoch 9/10\n",
            "1719/1719 - 9s - loss: 0.4027 - accuracy: 0.8578 - val_loss: 0.3692 - val_accuracy: 0.8674 - 9s/epoch - 5ms/step\n",
            "Epoch 10/10\n",
            "1719/1719 - 9s - loss: 0.3925 - accuracy: 0.8613 - val_loss: 0.3631 - val_accuracy: 0.8668 - 9s/epoch - 5ms/step\n"
          ]
        }
      ]
    },
    {
      "cell_type": "markdown",
      "source": [
        "# BN approach 2"
      ],
      "metadata": {
        "id": "tSmrhP1awnfF"
      }
    },
    {
      "cell_type": "code",
      "source": [
        "del model"
      ],
      "metadata": {
        "id": "S4_ZHAsFwWlK"
      },
      "execution_count": 19,
      "outputs": []
    },
    {
      "cell_type": "code",
      "source": [
        "LAYERS_BN_BIAS_FALSE = [\n",
        "    tf.keras.layers.Flatten(input_shape=[28, 28]),\n",
        "    tf.keras.layers.BatchNormalization(),\n",
        "    tf.keras.layers.Dense(300, use_bias=False),\n",
        "    tf.keras.layers.BatchNormalization(),\n",
        "    tf.keras.layers.Activation(\"relu\"),\n",
        "    tf.keras.layers.Dense(100, use_bias=False),\n",
        "    tf.keras.layers.BatchNormalization(),\n",
        "    tf.keras.layers.Activation(\"relu\"),\n",
        "    tf.keras.layers.Dense(10, activation=\"softmax\")\n",
        "]\n",
        "\n",
        "model = tf.keras.models.Sequential(LAYERS_BN_BIAS_FALSE)"
      ],
      "metadata": {
        "id": "vSs7znTIws0Q"
      },
      "execution_count": 20,
      "outputs": []
    },
    {
      "cell_type": "code",
      "source": [
        "model.summary()"
      ],
      "metadata": {
        "colab": {
          "base_uri": "https://localhost:8080/"
        },
        "id": "kuyoHQPgwwK7",
        "outputId": "ba45a324-b306-48fa-c58e-43746b68c2e1"
      },
      "execution_count": 21,
      "outputs": [
        {
          "output_type": "stream",
          "name": "stdout",
          "text": [
            "Model: \"sequential_2\"\n",
            "_________________________________________________________________\n",
            " Layer (type)                Output Shape              Param #   \n",
            "=================================================================\n",
            " flatten_2 (Flatten)         (None, 784)               0         \n",
            "                                                                 \n",
            " batch_normalization_3 (Batc  (None, 784)              3136      \n",
            " hNormalization)                                                 \n",
            "                                                                 \n",
            " dense_6 (Dense)             (None, 300)               235200    \n",
            "                                                                 \n",
            " batch_normalization_4 (Batc  (None, 300)              1200      \n",
            " hNormalization)                                                 \n",
            "                                                                 \n",
            " activation (Activation)     (None, 300)               0         \n",
            "                                                                 \n",
            " dense_7 (Dense)             (None, 100)               30000     \n",
            "                                                                 \n",
            " batch_normalization_5 (Batc  (None, 100)              400       \n",
            " hNormalization)                                                 \n",
            "                                                                 \n",
            " activation_1 (Activation)   (None, 100)               0         \n",
            "                                                                 \n",
            " dense_8 (Dense)             (None, 10)                1010      \n",
            "                                                                 \n",
            "=================================================================\n",
            "Total params: 270,946\n",
            "Trainable params: 268,578\n",
            "Non-trainable params: 2,368\n",
            "_________________________________________________________________\n"
          ]
        }
      ]
    },
    {
      "cell_type": "markdown",
      "source": [
        "# Transfer_Learning\n"
      ],
      "metadata": {
        "id": "XB6yiTQMyafp"
      }
    },
    {
      "cell_type": "code",
      "source": [
        "import os\n",
        "import tensorflow as tf\n",
        "import numpy as np\n",
        "import matplotlib.pyplot as plt\n",
        "import seaborn as sns\n",
        "plt.style.use(\"fivethirtyeight\")\n",
        "%load_ext tensorboard"
      ],
      "metadata": {
        "colab": {
          "base_uri": "https://localhost:8080/"
        },
        "id": "2jMNhoHPwzMl",
        "outputId": "fe85255c-63fc-4166-ef3c-e3f7c1d04f0f"
      },
      "execution_count": 22,
      "outputs": [
        {
          "output_type": "stream",
          "name": "stdout",
          "text": [
            "The tensorboard extension is already loaded. To reload it, use:\n",
            "  %reload_ext tensorboard\n"
          ]
        }
      ]
    },
    {
      "cell_type": "code",
      "source": [
        "(X_train_full, y_train_full), (X_test, y_test) = tf.keras.datasets.mnist.load_data()\n",
        "X_train_full = X_train_full / 255.0\n",
        "X_test = X_test / 255.0\n",
        "X_valid, X_train = X_train_full[:5000], X_train_full[5000:]\n",
        "y_valid, y_train = y_train_full[:5000], y_train_full[5000:]"
      ],
      "metadata": {
        "colab": {
          "base_uri": "https://localhost:8080/"
        },
        "id": "dEzTByosyhTk",
        "outputId": "c98c7ddf-02a8-48f2-e0ac-44ffdd562183"
      },
      "execution_count": 23,
      "outputs": [
        {
          "output_type": "stream",
          "name": "stdout",
          "text": [
            "Downloading data from https://storage.googleapis.com/tensorflow/tf-keras-datasets/mnist.npz\n",
            "11493376/11490434 [==============================] - 0s 0us/step\n",
            "11501568/11490434 [==============================] - 0s 0us/step\n"
          ]
        }
      ]
    },
    {
      "cell_type": "code",
      "source": [
        "tf.random.set_seed(42)\n",
        "np.random.seed(42)\n",
        "\n",
        "LAYERS = [ tf.keras.layers.Flatten(input_shape=[28, 28]),\n",
        "    tf.keras.layers.Dense(300, kernel_initializer=\"he_normal\"),\n",
        "    tf.keras.layers.LeakyReLU(),\n",
        "    tf.keras.layers.Dense(100, kernel_initializer=\"he_normal\"),\n",
        "    tf.keras.layers.LeakyReLU(),\n",
        "    tf.keras.layers.Dense(10, activation=\"softmax\")]\n",
        "\n",
        "\n",
        "model = tf.keras.models.Sequential(LAYERS)"
      ],
      "metadata": {
        "id": "cCiMcpopyjyf"
      },
      "execution_count": 24,
      "outputs": []
    },
    {
      "cell_type": "code",
      "source": [
        "model.compile(loss=\"sparse_categorical_crossentropy\",\n",
        "              optimizer=tf.keras.optimizers.SGD(learning_rate=1e-3),\n",
        "              metrics=[\"accuracy\"])"
      ],
      "metadata": {
        "id": "sQjEWUEEymj0"
      },
      "execution_count": 25,
      "outputs": []
    },
    {
      "cell_type": "code",
      "source": [
        "model.summary()"
      ],
      "metadata": {
        "colab": {
          "base_uri": "https://localhost:8080/"
        },
        "id": "wfLo4urayq-e",
        "outputId": "8114c1ac-52e3-499f-8b8e-3ab3df1a1e84"
      },
      "execution_count": 26,
      "outputs": [
        {
          "output_type": "stream",
          "name": "stdout",
          "text": [
            "Model: \"sequential_3\"\n",
            "_________________________________________________________________\n",
            " Layer (type)                Output Shape              Param #   \n",
            "=================================================================\n",
            " flatten_3 (Flatten)         (None, 784)               0         \n",
            "                                                                 \n",
            " dense_9 (Dense)             (None, 300)               235500    \n",
            "                                                                 \n",
            " leaky_re_lu_2 (LeakyReLU)   (None, 300)               0         \n",
            "                                                                 \n",
            " dense_10 (Dense)            (None, 100)               30100     \n",
            "                                                                 \n",
            " leaky_re_lu_3 (LeakyReLU)   (None, 100)               0         \n",
            "                                                                 \n",
            " dense_11 (Dense)            (None, 10)                1010      \n",
            "                                                                 \n",
            "=================================================================\n",
            "Total params: 266,610\n",
            "Trainable params: 266,610\n",
            "Non-trainable params: 0\n",
            "_________________________________________________________________\n"
          ]
        }
      ]
    },
    {
      "cell_type": "code",
      "source": [
        "history = model.fit(X_train, y_train, epochs=10,\n",
        "                    validation_data=(X_valid, y_valid), verbose=2)"
      ],
      "metadata": {
        "colab": {
          "base_uri": "https://localhost:8080/"
        },
        "id": "_mtRUrVkytlp",
        "outputId": "fa11b6e1-ef3d-434d-f9b6-6527b0ef6114"
      },
      "execution_count": 27,
      "outputs": [
        {
          "output_type": "stream",
          "name": "stdout",
          "text": [
            "Epoch 1/10\n",
            "1719/1719 - 6s - loss: 1.5275 - accuracy: 0.5970 - val_loss: 0.9444 - val_accuracy: 0.7980 - 6s/epoch - 3ms/step\n",
            "Epoch 2/10\n",
            "1719/1719 - 5s - loss: 0.7465 - accuracy: 0.8287 - val_loss: 0.5868 - val_accuracy: 0.8596 - 5s/epoch - 3ms/step\n",
            "Epoch 3/10\n",
            "1719/1719 - 6s - loss: 0.5412 - accuracy: 0.8624 - val_loss: 0.4685 - val_accuracy: 0.8834 - 6s/epoch - 3ms/step\n",
            "Epoch 4/10\n",
            "1719/1719 - 6s - loss: 0.4591 - accuracy: 0.8771 - val_loss: 0.4104 - val_accuracy: 0.8940 - 6s/epoch - 3ms/step\n",
            "Epoch 5/10\n",
            "1719/1719 - 8s - loss: 0.4142 - accuracy: 0.8869 - val_loss: 0.3758 - val_accuracy: 0.9006 - 8s/epoch - 5ms/step\n",
            "Epoch 6/10\n",
            "1719/1719 - 7s - loss: 0.3852 - accuracy: 0.8938 - val_loss: 0.3525 - val_accuracy: 0.9052 - 7s/epoch - 4ms/step\n",
            "Epoch 7/10\n",
            "1719/1719 - 5s - loss: 0.3644 - accuracy: 0.8980 - val_loss: 0.3348 - val_accuracy: 0.9102 - 5s/epoch - 3ms/step\n",
            "Epoch 8/10\n",
            "1719/1719 - 5s - loss: 0.3485 - accuracy: 0.9021 - val_loss: 0.3209 - val_accuracy: 0.9138 - 5s/epoch - 3ms/step\n",
            "Epoch 9/10\n",
            "1719/1719 - 6s - loss: 0.3356 - accuracy: 0.9053 - val_loss: 0.3111 - val_accuracy: 0.9152 - 6s/epoch - 3ms/step\n",
            "Epoch 10/10\n",
            "1719/1719 - 6s - loss: 0.3251 - accuracy: 0.9077 - val_loss: 0.3016 - val_accuracy: 0.9170 - 6s/epoch - 3ms/step\n"
          ]
        }
      ]
    },
    {
      "cell_type": "code",
      "source": [
        "model.save(\"pretrained_mnist_model.h5\")"
      ],
      "metadata": {
        "id": "3msWWTnxzBDS"
      },
      "execution_count": 28,
      "outputs": []
    },
    {
      "cell_type": "markdown",
      "source": [
        "Transfer learning\n",
        "\n",
        "New Problem statement -\n",
        "\n",
        "Classify handwritten digits into odd and even"
      ],
      "metadata": {
        "id": "K6p4f8J5zPd0"
      }
    },
    {
      "cell_type": "code",
      "source": [
        "pretrained_mnist_model = tf.keras.models.load_model(\"pretrained_mnist_model.h5\")"
      ],
      "metadata": {
        "id": "wpcj1aG8zNBu"
      },
      "execution_count": 29,
      "outputs": []
    },
    {
      "cell_type": "code",
      "source": [
        "pretrained_mnist_model.summary()"
      ],
      "metadata": {
        "colab": {
          "base_uri": "https://localhost:8080/"
        },
        "id": "_rpRi_yJ9KB_",
        "outputId": "50d680d9-4e3c-47ce-aa56-d1a322d08971"
      },
      "execution_count": 30,
      "outputs": [
        {
          "output_type": "stream",
          "name": "stdout",
          "text": [
            "Model: \"sequential_3\"\n",
            "_________________________________________________________________\n",
            " Layer (type)                Output Shape              Param #   \n",
            "=================================================================\n",
            " flatten_3 (Flatten)         (None, 784)               0         \n",
            "                                                                 \n",
            " dense_9 (Dense)             (None, 300)               235500    \n",
            "                                                                 \n",
            " leaky_re_lu_2 (LeakyReLU)   (None, 300)               0         \n",
            "                                                                 \n",
            " dense_10 (Dense)            (None, 100)               30100     \n",
            "                                                                 \n",
            " leaky_re_lu_3 (LeakyReLU)   (None, 100)               0         \n",
            "                                                                 \n",
            " dense_11 (Dense)            (None, 10)                1010      \n",
            "                                                                 \n",
            "=================================================================\n",
            "Total params: 266,610\n",
            "Trainable params: 266,610\n",
            "Non-trainable params: 0\n",
            "_________________________________________________________________\n"
          ]
        }
      ]
    },
    {
      "cell_type": "code",
      "source": [
        "for layer in pretrained_mnist_model.layers:\n",
        "  print(f\"{layer.name}: {layer.trainable}\")"
      ],
      "metadata": {
        "colab": {
          "base_uri": "https://localhost:8080/"
        },
        "id": "pdB26Vbq9XZl",
        "outputId": "d4877406-81ec-4632-9251-f0be474c6de0"
      },
      "execution_count": 31,
      "outputs": [
        {
          "output_type": "stream",
          "name": "stdout",
          "text": [
            "flatten_3: True\n",
            "dense_9: True\n",
            "leaky_re_lu_2: True\n",
            "dense_10: True\n",
            "leaky_re_lu_3: True\n",
            "dense_11: True\n"
          ]
        }
      ]
    },
    {
      "cell_type": "code",
      "source": [
        "for layer in pretrained_mnist_model.layers[:-1]: # leaves the last layer unfreezed => trainable\n",
        "  layer.trainable = False # freezing the layers from getting trained\n",
        "  print(f\"{layer.name}: {layer.trainable}\")"
      ],
      "metadata": {
        "colab": {
          "base_uri": "https://localhost:8080/"
        },
        "id": "QKh4B1DW90IU",
        "outputId": "51709448-6f25-4b03-a795-fb7df0ae8397"
      },
      "execution_count": 32,
      "outputs": [
        {
          "output_type": "stream",
          "name": "stdout",
          "text": [
            "flatten_3: False\n",
            "dense_9: False\n",
            "leaky_re_lu_2: False\n",
            "dense_10: False\n",
            "leaky_re_lu_3: False\n"
          ]
        }
      ]
    },
    {
      "cell_type": "code",
      "source": [
        "for layer in pretrained_mnist_model.layers:\n",
        "  print(f\"{layer.name}: {layer.trainable}\")\n",
        "# in back propogation only last layer is trained\n"
      ],
      "metadata": {
        "colab": {
          "base_uri": "https://localhost:8080/"
        },
        "id": "9Ya58dgQ90KI",
        "outputId": "8f68ad5c-17de-4b03-ce1b-4ade785f4a6c"
      },
      "execution_count": 33,
      "outputs": [
        {
          "output_type": "stream",
          "name": "stdout",
          "text": [
            "flatten_3: False\n",
            "dense_9: False\n",
            "leaky_re_lu_2: False\n",
            "dense_10: False\n",
            "leaky_re_lu_3: False\n",
            "dense_11: True\n"
          ]
        }
      ]
    },
    {
      "cell_type": "code",
      "source": [
        "try:\n",
        "  del new_model\n",
        "except:\n",
        "  pass"
      ],
      "metadata": {
        "id": "fpSvvfIP90Mr"
      },
      "execution_count": 34,
      "outputs": []
    },
    {
      "cell_type": "code",
      "source": [
        "lower_pretrained_layers = pretrained_mnist_model.layers[:-1]\n",
        "\n",
        "# LAYERS = [\n",
        "#           lower_pretrained_layers,\n",
        "#           tf.keras.layers.Dense(2, activation=\"softmax\")\n",
        "# ]\n",
        "\n",
        "new_model = tf.keras.models.Sequential(lower_pretrained_layers)\n",
        "\n",
        "new_model.add(\n",
        "    tf.keras.layers.Dense(2, activation=\"softmax\")\n",
        ")"
      ],
      "metadata": {
        "id": "2BNJDeUZ90Pn"
      },
      "execution_count": 35,
      "outputs": []
    },
    {
      "cell_type": "code",
      "source": [
        "new_model.summary()"
      ],
      "metadata": {
        "colab": {
          "base_uri": "https://localhost:8080/"
        },
        "id": "KolRv2mW90Ru",
        "outputId": "6237a396-6ea8-4580-f8df-61124beb15cd"
      },
      "execution_count": 36,
      "outputs": [
        {
          "output_type": "stream",
          "name": "stdout",
          "text": [
            "Model: \"sequential_4\"\n",
            "_________________________________________________________________\n",
            " Layer (type)                Output Shape              Param #   \n",
            "=================================================================\n",
            " flatten_3 (Flatten)         (None, 784)               0         \n",
            "                                                                 \n",
            " dense_9 (Dense)             (None, 300)               235500    \n",
            "                                                                 \n",
            " leaky_re_lu_2 (LeakyReLU)   (None, 300)               0         \n",
            "                                                                 \n",
            " dense_10 (Dense)            (None, 100)               30100     \n",
            "                                                                 \n",
            " leaky_re_lu_3 (LeakyReLU)   (None, 100)               0         \n",
            "                                                                 \n",
            " dense_12 (Dense)            (None, 2)                 202       \n",
            "                                                                 \n",
            "=================================================================\n",
            "Total params: 265,802\n",
            "Trainable params: 202\n",
            "Non-trainable params: 265,600\n",
            "_________________________________________________________________\n"
          ]
        }
      ]
    },
    {
      "cell_type": "code",
      "source": [
        "100 * 2 + 2 #200 weight and bias"
      ],
      "metadata": {
        "colab": {
          "base_uri": "https://localhost:8080/"
        },
        "id": "OO3bEVB590Ug",
        "outputId": "805b6435-f912-4d9f-c3e7-4468c3896193"
      },
      "execution_count": 37,
      "outputs": [
        {
          "output_type": "execute_result",
          "data": {
            "text/plain": [
              "202"
            ]
          },
          "metadata": {},
          "execution_count": 37
        }
      ]
    },
    {
      "cell_type": "code",
      "source": [
        "266610 - 1010"
      ],
      "metadata": {
        "id": "r4w3B-4I90W-"
      },
      "execution_count": 37,
      "outputs": []
    },
    {
      "cell_type": "code",
      "source": [
        "  265600 + 202"
      ],
      "metadata": {
        "colab": {
          "base_uri": "https://localhost:8080/"
        },
        "id": "v4xuYsgt90ae",
        "outputId": "97ab2e58-393e-4d07-e3e7-38a1899ade5e"
      },
      "execution_count": 38,
      "outputs": [
        {
          "output_type": "execute_result",
          "data": {
            "text/plain": [
              "265802"
            ]
          },
          "metadata": {},
          "execution_count": 38
        }
      ]
    },
    {
      "cell_type": "code",
      "source": [
        "np.unique(y_train)"
      ],
      "metadata": {
        "colab": {
          "base_uri": "https://localhost:8080/"
        },
        "id": "nJoznw4E90dS",
        "outputId": "028e01ad-06c3-4e75-b2bf-9da525f54fb6"
      },
      "execution_count": 39,
      "outputs": [
        {
          "output_type": "execute_result",
          "data": {
            "text/plain": [
              "array([0, 1, 2, 3, 4, 5, 6, 7, 8, 9], dtype=uint8)"
            ]
          },
          "metadata": {},
          "execution_count": 39
        }
      ]
    },
    {
      "cell_type": "code",
      "source": [
        "9%2"
      ],
      "metadata": {
        "colab": {
          "base_uri": "https://localhost:8080/"
        },
        "id": "A4cjxEga90gO",
        "outputId": "d1cffd18-ab75-4303-c8b2-49172a6173ec"
      },
      "execution_count": 40,
      "outputs": [
        {
          "output_type": "execute_result",
          "data": {
            "text/plain": [
              "1"
            ]
          },
          "metadata": {},
          "execution_count": 40
        }
      ]
    },
    {
      "cell_type": "code",
      "source": [
        "6%2"
      ],
      "metadata": {
        "colab": {
          "base_uri": "https://localhost:8080/"
        },
        "id": "yH1Y4K2x90jY",
        "outputId": "587d665d-74f3-4220-884b-4e5a8bd292cb"
      },
      "execution_count": 41,
      "outputs": [
        {
          "output_type": "execute_result",
          "data": {
            "text/plain": [
              "0"
            ]
          },
          "metadata": {},
          "execution_count": 41
        }
      ]
    },
    {
      "cell_type": "code",
      "source": [
        "np.where(y_train%2 == 0, 1, 0)"
      ],
      "metadata": {
        "colab": {
          "base_uri": "https://localhost:8080/"
        },
        "id": "ALT08r0D90l_",
        "outputId": "a29efe35-fd16-4891-ffd2-d8bc1f638dad"
      },
      "execution_count": 42,
      "outputs": [
        {
          "output_type": "execute_result",
          "data": {
            "text/plain": [
              "array([0, 0, 1, ..., 0, 1, 1])"
            ]
          },
          "metadata": {},
          "execution_count": 42
        }
      ]
    },
    {
      "cell_type": "code",
      "source": [
        "y_train[0], y_train[-1]"
      ],
      "metadata": {
        "colab": {
          "base_uri": "https://localhost:8080/"
        },
        "id": "YAOv4UPK90p-",
        "outputId": "b63fd9b6-cb50-4e06-9c2b-a49ef8cae0c6"
      },
      "execution_count": 43,
      "outputs": [
        {
          "output_type": "execute_result",
          "data": {
            "text/plain": [
              "(7, 8)"
            ]
          },
          "metadata": {},
          "execution_count": 43
        }
      ]
    },
    {
      "cell_type": "code",
      "source": [
        "def update_even_odd_labels(labels):\n",
        "  for idx, label in enumerate(labels):\n",
        "    labels[idx] = np.where(label % 2 == 0, 1, 0)\n",
        "  return labels"
      ],
      "metadata": {
        "id": "kRQ_EEPzDQVK"
      },
      "execution_count": 44,
      "outputs": []
    },
    {
      "cell_type": "code",
      "source": [
        "y_train_bin, y_test_bin, y_valid_bin = update_even_odd_labels([y_train, y_test, y_valid])"
      ],
      "metadata": {
        "id": "ev4ejPf3DSHx"
      },
      "execution_count": 45,
      "outputs": []
    },
    {
      "cell_type": "code",
      "source": [
        "np.unique(y_train_bin)"
      ],
      "metadata": {
        "colab": {
          "base_uri": "https://localhost:8080/"
        },
        "id": "OlEOdwAeDUTv",
        "outputId": "0b166b20-2c76-47f5-8031-9f9c7de3a45b"
      },
      "execution_count": 46,
      "outputs": [
        {
          "output_type": "execute_result",
          "data": {
            "text/plain": [
              "array([0, 1])"
            ]
          },
          "metadata": {},
          "execution_count": 46
        }
      ]
    },
    {
      "cell_type": "code",
      "source": [
        "new_model.compile(loss=\"sparse_categorical_crossentropy\",\n",
        "              optimizer=tf.keras.optimizers.SGD(lr=1e-3),\n",
        "              metrics=[\"accuracy\"])"
      ],
      "metadata": {
        "colab": {
          "base_uri": "https://localhost:8080/"
        },
        "id": "8C9Sx3KIDXoI",
        "outputId": "3119aa0e-dfb4-464a-fe51-fedec3cd6712"
      },
      "execution_count": 47,
      "outputs": [
        {
          "output_type": "stream",
          "name": "stderr",
          "text": [
            "/usr/local/lib/python3.7/dist-packages/keras/optimizer_v2/gradient_descent.py:102: UserWarning: The `lr` argument is deprecated, use `learning_rate` instead.\n",
            "  super(SGD, self).__init__(name, **kwargs)\n"
          ]
        }
      ]
    },
    {
      "cell_type": "code",
      "source": [
        "history = new_model.fit(X_train, y_train_bin, epochs=10,\n",
        "                    validation_data=(X_valid, y_valid_bin), verbose=2)"
      ],
      "metadata": {
        "colab": {
          "base_uri": "https://localhost:8080/"
        },
        "id": "6tlHWocXDhgp",
        "outputId": "794e6095-5731-45b6-ee5c-241f32627a4e"
      },
      "execution_count": 48,
      "outputs": [
        {
          "output_type": "stream",
          "name": "stdout",
          "text": [
            "Epoch 1/10\n",
            "1719/1719 - 5s - loss: 0.3898 - accuracy: 0.8288 - val_loss: 0.3247 - val_accuracy: 0.8676 - 5s/epoch - 3ms/step\n",
            "Epoch 2/10\n",
            "1719/1719 - 3s - loss: 0.3300 - accuracy: 0.8602 - val_loss: 0.3049 - val_accuracy: 0.8752 - 3s/epoch - 2ms/step\n",
            "Epoch 3/10\n",
            "1719/1719 - 4s - loss: 0.3163 - accuracy: 0.8660 - val_loss: 0.2948 - val_accuracy: 0.8796 - 4s/epoch - 2ms/step\n",
            "Epoch 4/10\n",
            "1719/1719 - 3s - loss: 0.3083 - accuracy: 0.8701 - val_loss: 0.2884 - val_accuracy: 0.8832 - 3s/epoch - 2ms/step\n",
            "Epoch 5/10\n",
            "1719/1719 - 3s - loss: 0.3023 - accuracy: 0.8725 - val_loss: 0.2834 - val_accuracy: 0.8846 - 3s/epoch - 2ms/step\n",
            "Epoch 6/10\n",
            "1719/1719 - 3s - loss: 0.2978 - accuracy: 0.8752 - val_loss: 0.2792 - val_accuracy: 0.8874 - 3s/epoch - 2ms/step\n",
            "Epoch 7/10\n",
            "1719/1719 - 3s - loss: 0.2939 - accuracy: 0.8772 - val_loss: 0.2758 - val_accuracy: 0.8872 - 3s/epoch - 2ms/step\n",
            "Epoch 8/10\n",
            "1719/1719 - 4s - loss: 0.2907 - accuracy: 0.8788 - val_loss: 0.2728 - val_accuracy: 0.8890 - 4s/epoch - 2ms/step\n",
            "Epoch 9/10\n",
            "1719/1719 - 4s - loss: 0.2876 - accuracy: 0.8797 - val_loss: 0.2708 - val_accuracy: 0.8906 - 4s/epoch - 2ms/step\n",
            "Epoch 10/10\n",
            "1719/1719 - 3s - loss: 0.2851 - accuracy: 0.8817 - val_loss: 0.2678 - val_accuracy: 0.8932 - 3s/epoch - 2ms/step\n"
          ]
        }
      ]
    },
    {
      "cell_type": "code",
      "source": [
        "new_model.evaluate(X_test, y_test_bin)"
      ],
      "metadata": {
        "colab": {
          "base_uri": "https://localhost:8080/"
        },
        "id": "yZ4iPO0NDjo_",
        "outputId": "414b9e54-d9f6-469c-fa48-ba872d361343"
      },
      "execution_count": 49,
      "outputs": [
        {
          "output_type": "stream",
          "name": "stdout",
          "text": [
            "313/313 [==============================] - 1s 2ms/step - loss: 0.2768 - accuracy: 0.8861\n"
          ]
        },
        {
          "output_type": "execute_result",
          "data": {
            "text/plain": [
              "[0.2768312990665436, 0.8860999941825867]"
            ]
          },
          "metadata": {},
          "execution_count": 49
        }
      ]
    },
    {
      "cell_type": "code",
      "source": [
        "X_new = X_test[:3]\n",
        "\n",
        "y_test[:3], y_test_bin[:3]"
      ],
      "metadata": {
        "colab": {
          "base_uri": "https://localhost:8080/"
        },
        "id": "Exa1DP-yDl2V",
        "outputId": "ee5eaba7-76ae-489d-dca6-95b86dd73aba"
      },
      "execution_count": 50,
      "outputs": [
        {
          "output_type": "execute_result",
          "data": {
            "text/plain": [
              "(array([7, 2, 1], dtype=uint8), array([0, 1, 0]))"
            ]
          },
          "metadata": {},
          "execution_count": 50
        }
      ]
    },
    {
      "cell_type": "code",
      "source": [
        "np.argmax(new_model.predict(X_new), axis=-1)\n"
      ],
      "metadata": {
        "colab": {
          "base_uri": "https://localhost:8080/"
        },
        "id": "3WaUJDbkDo7q",
        "outputId": "c2ac0318-0318-40ab-adbc-a88fd5ab5fb2"
      },
      "execution_count": 51,
      "outputs": [
        {
          "output_type": "execute_result",
          "data": {
            "text/plain": [
              "array([0, 1, 0])"
            ]
          },
          "metadata": {},
          "execution_count": 51
        }
      ]
    },
    {
      "cell_type": "code",
      "source": [],
      "metadata": {
        "id": "TXorhTRxDquf"
      },
      "execution_count": null,
      "outputs": []
    }
  ]
}