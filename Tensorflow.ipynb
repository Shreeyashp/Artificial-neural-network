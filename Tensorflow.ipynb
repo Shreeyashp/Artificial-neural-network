{
  "nbformat": 4,
  "nbformat_minor": 0,
  "metadata": {
    "colab": {
      "provenance": [],
      "collapsed_sections": []
    },
    "kernelspec": {
      "name": "python3",
      "display_name": "Python 3"
    },
    "language_info": {
      "name": "python"
    }
  },
  "cells": [
    {
      "cell_type": "code",
      "execution_count": 1,
      "metadata": {
        "id": "NZ3TaOrtac-N"
      },
      "outputs": [],
      "source": [
        "import tensorflow as tf"
      ]
    },
    {
      "cell_type": "code",
      "source": [
        "tf.__version__"
      ],
      "metadata": {
        "colab": {
          "base_uri": "https://localhost:8080/",
          "height": 35
        },
        "id": "Fuuacv7qcW-L",
        "outputId": "21bad2ac-baef-4ae2-dc1c-fbf9b4d67e9e"
      },
      "execution_count": 2,
      "outputs": [
        {
          "output_type": "execute_result",
          "data": {
            "text/plain": [
              "'2.8.2'"
            ],
            "application/vnd.google.colaboratory.intrinsic+json": {
              "type": "string"
            }
          },
          "metadata": {},
          "execution_count": 2
        }
      ]
    },
    {
      "cell_type": "markdown",
      "source": [
        "##Tensor constant\n",
        "######Tensor: Multi dim array"
      ],
      "metadata": {
        "id": "BSNXGBbOcfMu"
      }
    },
    {
      "cell_type": "code",
      "source": [
        "const = tf.constant(43)\n",
        "const"
      ],
      "metadata": {
        "colab": {
          "base_uri": "https://localhost:8080/"
        },
        "id": "WHpvKZ_lcasC",
        "outputId": "bac2a723-2e64-4da1-f6ed-49a172636944"
      },
      "execution_count": 3,
      "outputs": [
        {
          "output_type": "execute_result",
          "data": {
            "text/plain": [
              "<tf.Tensor: shape=(), dtype=int32, numpy=43>"
            ]
          },
          "metadata": {},
          "execution_count": 3
        }
      ]
    },
    {
      "cell_type": "code",
      "source": [
        "const.shape"
      ],
      "metadata": {
        "colab": {
          "base_uri": "https://localhost:8080/"
        },
        "id": "Z_zQOf51dEi9",
        "outputId": "b9fcd94d-d3e0-4df8-c7ed-0d434d86c052"
      },
      "execution_count": 4,
      "outputs": [
        {
          "output_type": "execute_result",
          "data": {
            "text/plain": [
              "TensorShape([])"
            ]
          },
          "metadata": {},
          "execution_count": 4
        }
      ]
    },
    {
      "cell_type": "code",
      "source": [
        "const.numpy()"
      ],
      "metadata": {
        "colab": {
          "base_uri": "https://localhost:8080/"
        },
        "id": "jGrng_RxdXLr",
        "outputId": "3978c6d2-fced-4c61-89c9-89c96455de18"
      },
      "execution_count": 5,
      "outputs": [
        {
          "output_type": "execute_result",
          "data": {
            "text/plain": [
              "43"
            ]
          },
          "metadata": {},
          "execution_count": 5
        }
      ]
    },
    {
      "cell_type": "markdown",
      "source": [
        "##### JAX: Built on Numpy but it supports CUDA"
      ],
      "metadata": {
        "id": "0KgMdfhMdr2C"
      }
    },
    {
      "cell_type": "code",
      "source": [
        "const = tf.constant(43, dtype = tf.float32)\n",
        "const"
      ],
      "metadata": {
        "colab": {
          "base_uri": "https://localhost:8080/"
        },
        "id": "VS8OVBaudc2m",
        "outputId": "a4d6489c-cd9f-42fa-a434-c7d985628a9e"
      },
      "execution_count": 6,
      "outputs": [
        {
          "output_type": "execute_result",
          "data": {
            "text/plain": [
              "<tf.Tensor: shape=(), dtype=float32, numpy=43.0>"
            ]
          },
          "metadata": {},
          "execution_count": 6
        }
      ]
    },
    {
      "cell_type": "code",
      "source": [
        "const_mat = tf.constant([[1,2],[3,4]], dtype = tf.float32)\n",
        "const_mat"
      ],
      "metadata": {
        "colab": {
          "base_uri": "https://localhost:8080/"
        },
        "id": "yNsL-6S7eCtB",
        "outputId": "95cc1544-effa-4860-9071-b1386ce38e5f"
      },
      "execution_count": 7,
      "outputs": [
        {
          "output_type": "execute_result",
          "data": {
            "text/plain": [
              "<tf.Tensor: shape=(2, 2), dtype=float32, numpy=\n",
              "array([[1., 2.],\n",
              "       [3., 4.]], dtype=float32)>"
            ]
          },
          "metadata": {},
          "execution_count": 7
        }
      ]
    },
    {
      "cell_type": "markdown",
      "source": [
        "###### Commonly used method"
      ],
      "metadata": {
        "id": "HGb5Mrqge1dz"
      }
    },
    {
      "cell_type": "code",
      "source": [
        "tf.ones(shape=(2,3))"
      ],
      "metadata": {
        "colab": {
          "base_uri": "https://localhost:8080/"
        },
        "id": "Ls3iktkcee-o",
        "outputId": "cdd5faa2-1b21-4099-d77b-21b74674ad4f"
      },
      "execution_count": 8,
      "outputs": [
        {
          "output_type": "execute_result",
          "data": {
            "text/plain": [
              "<tf.Tensor: shape=(2, 3), dtype=float32, numpy=\n",
              "array([[1., 1., 1.],\n",
              "       [1., 1., 1.]], dtype=float32)>"
            ]
          },
          "metadata": {},
          "execution_count": 8
        }
      ]
    },
    {
      "cell_type": "code",
      "source": [
        "-1*tf.ones(shape=(2,3))"
      ],
      "metadata": {
        "colab": {
          "base_uri": "https://localhost:8080/"
        },
        "id": "b6g1uW5YghLB",
        "outputId": "5ca8aa8e-b02f-4ac7-9afc-da03ed1b4a0e"
      },
      "execution_count": 9,
      "outputs": [
        {
          "output_type": "execute_result",
          "data": {
            "text/plain": [
              "<tf.Tensor: shape=(2, 3), dtype=float32, numpy=\n",
              "array([[-1., -1., -1.],\n",
              "       [-1., -1., -1.]], dtype=float32)>"
            ]
          },
          "metadata": {},
          "execution_count": 9
        }
      ]
    },
    {
      "cell_type": "code",
      "source": [
        "6*tf.ones(shape=(2,3))"
      ],
      "metadata": {
        "colab": {
          "base_uri": "https://localhost:8080/"
        },
        "id": "wmhKNq9mgn_b",
        "outputId": "c7ca4442-018f-4ea1-8f6b-fb4836172590"
      },
      "execution_count": 10,
      "outputs": [
        {
          "output_type": "execute_result",
          "data": {
            "text/plain": [
              "<tf.Tensor: shape=(2, 3), dtype=float32, numpy=\n",
              "array([[6., 6., 6.],\n",
              "       [6., 6., 6.]], dtype=float32)>"
            ]
          },
          "metadata": {},
          "execution_count": 10
        }
      ]
    },
    {
      "cell_type": "code",
      "source": [
        "tf.zeros(shape=(2,4))"
      ],
      "metadata": {
        "colab": {
          "base_uri": "https://localhost:8080/"
        },
        "id": "hfrNGJiKgwqU",
        "outputId": "304ca596-d1df-4ec2-8b3a-9d1f1ede3530"
      },
      "execution_count": 11,
      "outputs": [
        {
          "output_type": "execute_result",
          "data": {
            "text/plain": [
              "<tf.Tensor: shape=(2, 4), dtype=float32, numpy=\n",
              "array([[0., 0., 0., 0.],\n",
              "       [0., 0., 0., 0.]], dtype=float32)>"
            ]
          },
          "metadata": {},
          "execution_count": 11
        }
      ]
    },
    {
      "cell_type": "markdown",
      "source": [
        "##### add operations\n"
      ],
      "metadata": {
        "id": "qMDSLExhg9NK"
      }
    },
    {
      "cell_type": "code",
      "source": [
        "const1 = tf.constant([[1,2,3],[4,5,6]])\n",
        "const2 = tf.constant([[5,2,7],[8,5,2]])\n"
      ],
      "metadata": {
        "id": "5x4pSaVKg4zG"
      },
      "execution_count": 12,
      "outputs": []
    },
    {
      "cell_type": "code",
      "source": [
        "const1+const2"
      ],
      "metadata": {
        "colab": {
          "base_uri": "https://localhost:8080/"
        },
        "id": "5AYad2T0hOsj",
        "outputId": "9e108b71-0cab-4d67-821e-614031c4065b"
      },
      "execution_count": 13,
      "outputs": [
        {
          "output_type": "execute_result",
          "data": {
            "text/plain": [
              "<tf.Tensor: shape=(2, 3), dtype=int32, numpy=\n",
              "array([[ 6,  4, 10],\n",
              "       [12, 10,  8]], dtype=int32)>"
            ]
          },
          "metadata": {},
          "execution_count": 13
        }
      ]
    },
    {
      "cell_type": "code",
      "source": [
        "tf.add(const1, const2)"
      ],
      "metadata": {
        "colab": {
          "base_uri": "https://localhost:8080/"
        },
        "id": "R2g0MDpThQug",
        "outputId": "07daff28-b804-4fb8-f140-3d5f41c92ff2"
      },
      "execution_count": 14,
      "outputs": [
        {
          "output_type": "execute_result",
          "data": {
            "text/plain": [
              "<tf.Tensor: shape=(2, 3), dtype=int32, numpy=\n",
              "array([[ 6,  4, 10],\n",
              "       [12, 10,  8]], dtype=int32)>"
            ]
          },
          "metadata": {},
          "execution_count": 14
        }
      ]
    },
    {
      "cell_type": "markdown",
      "source": [
        "##### Random const"
      ],
      "metadata": {
        "id": "4tx2tNYthuRv"
      }
    },
    {
      "cell_type": "code",
      "source": [
        "tf.random.normal(shape=(2,3))\n"
      ],
      "metadata": {
        "colab": {
          "base_uri": "https://localhost:8080/"
        },
        "id": "5irslEWPhU8E",
        "outputId": "c0ad68d5-35a2-42e1-812a-abd37e017fab"
      },
      "execution_count": 15,
      "outputs": [
        {
          "output_type": "execute_result",
          "data": {
            "text/plain": [
              "<tf.Tensor: shape=(2, 3), dtype=float32, numpy=\n",
              "array([[ 0.8649932 , -1.328584  , -3.112835  ],\n",
              "       [-0.44562116,  0.76630634, -1.2276335 ]], dtype=float32)>"
            ]
          },
          "metadata": {},
          "execution_count": 15
        }
      ]
    },
    {
      "cell_type": "code",
      "source": [
        "tf.random.normal(shape=(2,3), mean = 0, stddev = 1.0)"
      ],
      "metadata": {
        "colab": {
          "base_uri": "https://localhost:8080/"
        },
        "id": "NKutPQ4dhZkj",
        "outputId": "226f50bc-4553-48ff-eec4-a921f7ccccd0"
      },
      "execution_count": 16,
      "outputs": [
        {
          "output_type": "execute_result",
          "data": {
            "text/plain": [
              "<tf.Tensor: shape=(2, 3), dtype=float32, numpy=\n",
              "array([[ 1.249733  , -0.49445942,  1.9940182 ],\n",
              "       [-0.7788862 ,  0.1096847 , -0.49152124]], dtype=float32)>"
            ]
          },
          "metadata": {},
          "execution_count": 16
        }
      ]
    },
    {
      "cell_type": "code",
      "source": [],
      "metadata": {
        "id": "AJKxvbSGiZZS"
      },
      "execution_count": 16,
      "outputs": []
    },
    {
      "cell_type": "code",
      "source": [
        "tf.random.uniform(shape=(2,2), minval=0, maxval=20)"
      ],
      "metadata": {
        "colab": {
          "base_uri": "https://localhost:8080/"
        },
        "id": "-Yv52dpLiuna",
        "outputId": "6976e561-7133-4c40-a3a8-0bc869917a5b"
      },
      "execution_count": 17,
      "outputs": [
        {
          "output_type": "execute_result",
          "data": {
            "text/plain": [
              "<tf.Tensor: shape=(2, 2), dtype=float32, numpy=\n",
              "array([[12.418399, 16.77655 ],\n",
              "       [ 4.970193,  7.676072]], dtype=float32)>"
            ]
          },
          "metadata": {},
          "execution_count": 17
        }
      ]
    },
    {
      "cell_type": "markdown",
      "source": [
        "##### variables"
      ],
      "metadata": {
        "id": "F8nL8cLojVja"
      }
    },
    {
      "cell_type": "code",
      "source": [
        "var1 = tf.Variable([[1,2,3], [4,5,6]])\n",
        "var1"
      ],
      "metadata": {
        "colab": {
          "base_uri": "https://localhost:8080/"
        },
        "id": "_HByRH9Hi0RL",
        "outputId": "93ba4a3f-d4b2-4584-961f-24ffdd373ef3"
      },
      "execution_count": 18,
      "outputs": [
        {
          "output_type": "execute_result",
          "data": {
            "text/plain": [
              "<tf.Variable 'Variable:0' shape=(2, 3) dtype=int32, numpy=\n",
              "array([[1, 2, 3],\n",
              "       [4, 5, 6]], dtype=int32)>"
            ]
          },
          "metadata": {},
          "execution_count": 18
        }
      ]
    },
    {
      "cell_type": "code",
      "source": [
        "var2 = tf.Variable(43)\n",
        "var2"
      ],
      "metadata": {
        "colab": {
          "base_uri": "https://localhost:8080/"
        },
        "id": "4VWB-z_QjeTt",
        "outputId": "eb2ac937-45b5-45cd-c440-e8d7df070664"
      },
      "execution_count": 19,
      "outputs": [
        {
          "output_type": "execute_result",
          "data": {
            "text/plain": [
              "<tf.Variable 'Variable:0' shape=() dtype=int32, numpy=43>"
            ]
          },
          "metadata": {},
          "execution_count": 19
        }
      ]
    },
    {
      "cell_type": "markdown",
      "source": [
        "#### reshaping"
      ],
      "metadata": {
        "id": "tiMSNNc_lo8k"
      }
    },
    {
      "cell_type": "code",
      "source": [
        "ten = tf.Variable([[22,2,3], [4,5,6]])\n",
        "ten"
      ],
      "metadata": {
        "colab": {
          "base_uri": "https://localhost:8080/"
        },
        "id": "QkSHwb3hjvJy",
        "outputId": "f1cd51e9-1acb-4c05-db60-309741853482"
      },
      "execution_count": 20,
      "outputs": [
        {
          "output_type": "execute_result",
          "data": {
            "text/plain": [
              "<tf.Variable 'Variable:0' shape=(2, 3) dtype=int32, numpy=\n",
              "array([[22,  2,  3],\n",
              "       [ 4,  5,  6]], dtype=int32)>"
            ]
          },
          "metadata": {},
          "execution_count": 20
        }
      ]
    },
    {
      "cell_type": "code",
      "source": [
        "tf.reshape(ten, (3,2))"
      ],
      "metadata": {
        "colab": {
          "base_uri": "https://localhost:8080/"
        },
        "id": "TUKLBNcBl0qX",
        "outputId": "8253ed54-1bfd-42d0-d592-17bd52cbe937"
      },
      "execution_count": 21,
      "outputs": [
        {
          "output_type": "execute_result",
          "data": {
            "text/plain": [
              "<tf.Tensor: shape=(3, 2), dtype=int32, numpy=\n",
              "array([[22,  2],\n",
              "       [ 3,  4],\n",
              "       [ 5,  6]], dtype=int32)>"
            ]
          },
          "metadata": {},
          "execution_count": 21
        }
      ]
    },
    {
      "cell_type": "code",
      "source": [
        "tf.reshape(ten, (1,6))"
      ],
      "metadata": {
        "colab": {
          "base_uri": "https://localhost:8080/"
        },
        "id": "Uq09Fdsql-kl",
        "outputId": "fc8ab296-b352-4570-ad45-57e13fc8b595"
      },
      "execution_count": 22,
      "outputs": [
        {
          "output_type": "execute_result",
          "data": {
            "text/plain": [
              "<tf.Tensor: shape=(1, 6), dtype=int32, numpy=array([[22,  2,  3,  4,  5,  6]], dtype=int32)>"
            ]
          },
          "metadata": {},
          "execution_count": 22
        }
      ]
    },
    {
      "cell_type": "code",
      "source": [
        "var1"
      ],
      "metadata": {
        "colab": {
          "base_uri": "https://localhost:8080/"
        },
        "id": "HGLyK-zRmGDU",
        "outputId": "d910c4d0-8b54-4bbe-ae5f-4a72f6b69702"
      },
      "execution_count": 23,
      "outputs": [
        {
          "output_type": "execute_result",
          "data": {
            "text/plain": [
              "<tf.Variable 'Variable:0' shape=(2, 3) dtype=int32, numpy=\n",
              "array([[1, 2, 3],\n",
              "       [4, 5, 6]], dtype=int32)>"
            ]
          },
          "metadata": {},
          "execution_count": 23
        }
      ]
    },
    {
      "cell_type": "code",
      "source": [
        "tf.square(var1)"
      ],
      "metadata": {
        "colab": {
          "base_uri": "https://localhost:8080/"
        },
        "id": "yglvDN4QmaBe",
        "outputId": "5f191162-651d-42a4-84b6-b341dab5edf4"
      },
      "execution_count": 24,
      "outputs": [
        {
          "output_type": "execute_result",
          "data": {
            "text/plain": [
              "<tf.Tensor: shape=(2, 3), dtype=int32, numpy=\n",
              "array([[ 1,  4,  9],\n",
              "       [16, 25, 36]], dtype=int32)>"
            ]
          },
          "metadata": {},
          "execution_count": 24
        }
      ]
    },
    {
      "cell_type": "markdown",
      "source": [
        "#### Broadcasting in TF"
      ],
      "metadata": {
        "id": "5EzgZuZCmgl8"
      }
    },
    {
      "cell_type": "code",
      "source": [
        "ten"
      ],
      "metadata": {
        "colab": {
          "base_uri": "https://localhost:8080/"
        },
        "id": "isKFs9a6meqE",
        "outputId": "8dbdece1-c10e-4b43-811d-5cc68985b564"
      },
      "execution_count": 25,
      "outputs": [
        {
          "output_type": "execute_result",
          "data": {
            "text/plain": [
              "<tf.Variable 'Variable:0' shape=(2, 3) dtype=int32, numpy=\n",
              "array([[22,  2,  3],\n",
              "       [ 4,  5,  6]], dtype=int32)>"
            ]
          },
          "metadata": {},
          "execution_count": 25
        }
      ]
    },
    {
      "cell_type": "code",
      "source": [
        "scaler=5"
      ],
      "metadata": {
        "id": "WeZkf137m6wA"
      },
      "execution_count": 26,
      "outputs": []
    },
    {
      "cell_type": "code",
      "source": [
        "scaler+ten"
      ],
      "metadata": {
        "colab": {
          "base_uri": "https://localhost:8080/"
        },
        "id": "W1t5qaqBm9w5",
        "outputId": "db472546-1f1d-4cc1-f9fe-76959f72e787"
      },
      "execution_count": 27,
      "outputs": [
        {
          "output_type": "execute_result",
          "data": {
            "text/plain": [
              "<tf.Tensor: shape=(2, 3), dtype=int32, numpy=\n",
              "array([[27,  7,  8],\n",
              "       [ 9, 10, 11]], dtype=int32)>"
            ]
          },
          "metadata": {},
          "execution_count": 27
        }
      ]
    },
    {
      "cell_type": "code",
      "source": [
        "scaler* ten"
      ],
      "metadata": {
        "colab": {
          "base_uri": "https://localhost:8080/"
        },
        "id": "gtok2dY9m_kC",
        "outputId": "45b7e358-24e6-4647-fa84-d9dfb13cfbbb"
      },
      "execution_count": 28,
      "outputs": [
        {
          "output_type": "execute_result",
          "data": {
            "text/plain": [
              "<tf.Tensor: shape=(2, 3), dtype=int32, numpy=\n",
              "array([[110,  10,  15],\n",
              "       [ 20,  25,  30]], dtype=int32)>"
            ]
          },
          "metadata": {},
          "execution_count": 28
        }
      ]
    },
    {
      "cell_type": "markdown",
      "source": [
        "##### Matrix Multiplication"
      ],
      "metadata": {
        "id": "0IArk0jfnPpx"
      }
    },
    {
      "cell_type": "code",
      "source": [
        "mat_u = tf.constant([[6,7,7]])\n",
        "mat_v = tf.constant([[3,4,3]])"
      ],
      "metadata": {
        "id": "LPh_1XuVnCNO"
      },
      "execution_count": 29,
      "outputs": []
    },
    {
      "cell_type": "code",
      "source": [
        "mat_u.shape"
      ],
      "metadata": {
        "colab": {
          "base_uri": "https://localhost:8080/"
        },
        "id": "GybX45dTnTtv",
        "outputId": "21d736f1-ee69-4d95-dc46-86040d5a1a6c"
      },
      "execution_count": 30,
      "outputs": [
        {
          "output_type": "execute_result",
          "data": {
            "text/plain": [
              "TensorShape([1, 3])"
            ]
          },
          "metadata": {},
          "execution_count": 30
        }
      ]
    },
    {
      "cell_type": "code",
      "source": [
        "mat_v.shape"
      ],
      "metadata": {
        "colab": {
          "base_uri": "https://localhost:8080/"
        },
        "id": "g2KAhevNnW_w",
        "outputId": "5870f2a9-cc9e-4590-d2fa-4225e7006048"
      },
      "execution_count": 31,
      "outputs": [
        {
          "output_type": "execute_result",
          "data": {
            "text/plain": [
              "TensorShape([1, 3])"
            ]
          },
          "metadata": {},
          "execution_count": 31
        }
      ]
    },
    {
      "cell_type": "markdown",
      "source": [
        "If you are multiplying AB:\n",
        "column of mat A = row of matrix B"
      ],
      "metadata": {
        "id": "fb3ymBbQnhQv"
      }
    },
    {
      "cell_type": "code",
      "source": [
        "# What is Tensorflow Matmul?\n",
        "# Multiplies matrix a by matrix b , producing a * b\n",
        "\n",
        "tf.matmul(mat_u, tf.transpose(mat_v))"
      ],
      "metadata": {
        "colab": {
          "base_uri": "https://localhost:8080/"
        },
        "id": "aLG0S5nTnYy9",
        "outputId": "b9fa9c45-5883-477d-ab3a-0bab7a4ee695"
      },
      "execution_count": 32,
      "outputs": [
        {
          "output_type": "execute_result",
          "data": {
            "text/plain": [
              "<tf.Tensor: shape=(1, 1), dtype=int32, numpy=array([[67]], dtype=int32)>"
            ]
          },
          "metadata": {},
          "execution_count": 32
        }
      ]
    },
    {
      "cell_type": "code",
      "source": [
        "mat_u @ tf.transpose(mat_v)"
      ],
      "metadata": {
        "colab": {
          "base_uri": "https://localhost:8080/"
        },
        "id": "JlBe6wJrpR31",
        "outputId": "18c9fe52-f0a8-442d-c651-37fd99af60ef"
      },
      "execution_count": 33,
      "outputs": [
        {
          "output_type": "execute_result",
          "data": {
            "text/plain": [
              "<tf.Tensor: shape=(1, 1), dtype=int32, numpy=array([[67]], dtype=int32)>"
            ]
          },
          "metadata": {},
          "execution_count": 33
        }
      ]
    },
    {
      "cell_type": "code",
      "source": [
        "tf.matmul(tf.transpose(mat_u), mat_v)"
      ],
      "metadata": {
        "colab": {
          "base_uri": "https://localhost:8080/"
        },
        "id": "3YR02HoGp9S9",
        "outputId": "7eb4b627-46ee-4f5b-de73-c644c078bf02"
      },
      "execution_count": 34,
      "outputs": [
        {
          "output_type": "execute_result",
          "data": {
            "text/plain": [
              "<tf.Tensor: shape=(3, 3), dtype=int32, numpy=\n",
              "array([[18, 24, 18],\n",
              "       [21, 28, 21],\n",
              "       [21, 28, 21]], dtype=int32)>"
            ]
          },
          "metadata": {},
          "execution_count": 34
        }
      ]
    },
    {
      "cell_type": "code",
      "source": [
        "mat_u * mat_v # element wise multiplication\n",
        "# shape of both should be same"
      ],
      "metadata": {
        "colab": {
          "base_uri": "https://localhost:8080/"
        },
        "id": "sUEtEm5xqCCs",
        "outputId": "d05ecc96-5ac1-4352-91bb-3961113e00e1"
      },
      "execution_count": 35,
      "outputs": [
        {
          "output_type": "execute_result",
          "data": {
            "text/plain": [
              "<tf.Tensor: shape=(1, 3), dtype=int32, numpy=array([[18, 28, 21]], dtype=int32)>"
            ]
          },
          "metadata": {},
          "execution_count": 35
        }
      ]
    },
    {
      "cell_type": "markdown",
      "source": [
        "##### Casting method in tf to change the data type "
      ],
      "metadata": {
        "id": "CFFM-w4erUtA"
      }
    },
    {
      "cell_type": "code",
      "source": [
        "mat_u.dtype"
      ],
      "metadata": {
        "colab": {
          "base_uri": "https://localhost:8080/"
        },
        "id": "_sY9tatZqEzw",
        "outputId": "5765fb9f-1c8b-47d8-a260-6172f1a513bb"
      },
      "execution_count": 36,
      "outputs": [
        {
          "output_type": "execute_result",
          "data": {
            "text/plain": [
              "tf.int32"
            ]
          },
          "metadata": {},
          "execution_count": 36
        }
      ]
    },
    {
      "cell_type": "code",
      "source": [
        "tf.cast(mat_u, dtype=tf.int16)\n",
        "# # can be used in quantizing a model to save the space in the memory allocation"
      ],
      "metadata": {
        "colab": {
          "base_uri": "https://localhost:8080/"
        },
        "id": "VnqPcM6ZrhWm",
        "outputId": "4a630ee0-95ef-4038-edc8-3f60feaa57ee"
      },
      "execution_count": 37,
      "outputs": [
        {
          "output_type": "execute_result",
          "data": {
            "text/plain": [
              "<tf.Tensor: shape=(1, 3), dtype=int16, numpy=array([[6, 7, 7]], dtype=int16)>"
            ]
          },
          "metadata": {},
          "execution_count": 37
        }
      ]
    },
    {
      "cell_type": "markdown",
      "source": [
        "Ragged tensors\n",
        "\n",
        "nested variable length arrays\n",
        "\n"
      ],
      "metadata": {
        "id": "Xn7wgNnBs0ut"
      }
    },
    {
      "cell_type": "code",
      "source": [
        "ragged = tf.ragged.constant([[1,2,4,5,6], [1], [135,1]])"
      ],
      "metadata": {
        "id": "d5Sk1qq0rnVm"
      },
      "execution_count": 38,
      "outputs": []
    },
    {
      "cell_type": "code",
      "source": [
        "ragged.shape"
      ],
      "metadata": {
        "colab": {
          "base_uri": "https://localhost:8080/"
        },
        "id": "QzChzOrUtlM4",
        "outputId": "623b426d-73f7-4336-ba8b-76acedba4617"
      },
      "execution_count": 39,
      "outputs": [
        {
          "output_type": "execute_result",
          "data": {
            "text/plain": [
              "TensorShape([3, None])"
            ]
          },
          "metadata": {},
          "execution_count": 39
        }
      ]
    },
    {
      "cell_type": "code",
      "source": [
        "ragged[0].shape"
      ],
      "metadata": {
        "colab": {
          "base_uri": "https://localhost:8080/"
        },
        "id": "7GLacEy1tnih",
        "outputId": "7f6e657a-4fab-4155-ef73-adc47b4d4d66"
      },
      "execution_count": 40,
      "outputs": [
        {
          "output_type": "execute_result",
          "data": {
            "text/plain": [
              "TensorShape([5])"
            ]
          },
          "metadata": {},
          "execution_count": 40
        }
      ]
    },
    {
      "cell_type": "code",
      "source": [
        "ragged[2].shape"
      ],
      "metadata": {
        "colab": {
          "base_uri": "https://localhost:8080/"
        },
        "id": "-impdNnXtpPc",
        "outputId": "171033a7-be8d-446b-ca19-7b1f8d57839f"
      },
      "execution_count": 41,
      "outputs": [
        {
          "output_type": "execute_result",
          "data": {
            "text/plain": [
              "TensorShape([2])"
            ]
          },
          "metadata": {},
          "execution_count": 41
        }
      ]
    },
    {
      "cell_type": "markdown",
      "source": [
        "#### Checkpointing to restore the matrix vals"
      ],
      "metadata": {
        "id": "E3lJPrAFucba"
      }
    },
    {
      "cell_type": "code",
      "source": [
        "var1 = tf.Variable(5*tf.ones((5,5)))\n",
        "var1"
      ],
      "metadata": {
        "colab": {
          "base_uri": "https://localhost:8080/"
        },
        "id": "Py4pT4VIudm2",
        "outputId": "1b8f5aff-3465-4191-e9bb-6330fc037817"
      },
      "execution_count": 42,
      "outputs": [
        {
          "output_type": "execute_result",
          "data": {
            "text/plain": [
              "<tf.Variable 'Variable:0' shape=(5, 5) dtype=float32, numpy=\n",
              "array([[5., 5., 5., 5., 5.],\n",
              "       [5., 5., 5., 5., 5.],\n",
              "       [5., 5., 5., 5., 5.],\n",
              "       [5., 5., 5., 5., 5.],\n",
              "       [5., 5., 5., 5., 5.]], dtype=float32)>"
            ]
          },
          "metadata": {},
          "execution_count": 42
        }
      ]
    },
    {
      "cell_type": "code",
      "source": [
        "ckpt = tf.train.Checkpoint(var=var1)\n",
        "savepath = ckpt.save(\"./vars.ckpt\")"
      ],
      "metadata": {
        "id": "zLOkJ09NulSK"
      },
      "execution_count": 43,
      "outputs": []
    },
    {
      "cell_type": "code",
      "source": [
        "var1.assign(tf.zeros((5,5)))"
      ],
      "metadata": {
        "colab": {
          "base_uri": "https://localhost:8080/"
        },
        "id": "uQ4wnE1hvEQZ",
        "outputId": "1503ce98-fbfe-493d-92ab-78512ee7b67c"
      },
      "execution_count": 44,
      "outputs": [
        {
          "output_type": "execute_result",
          "data": {
            "text/plain": [
              "<tf.Variable 'UnreadVariable' shape=(5, 5) dtype=float32, numpy=\n",
              "array([[0., 0., 0., 0., 0.],\n",
              "       [0., 0., 0., 0., 0.],\n",
              "       [0., 0., 0., 0., 0.],\n",
              "       [0., 0., 0., 0., 0.],\n",
              "       [0., 0., 0., 0., 0.]], dtype=float32)>"
            ]
          },
          "metadata": {},
          "execution_count": 44
        }
      ]
    },
    {
      "cell_type": "code",
      "source": [
        "ckpt.restore(savepath)"
      ],
      "metadata": {
        "colab": {
          "base_uri": "https://localhost:8080/"
        },
        "id": "8Ab71y06vHzA",
        "outputId": "aa0bb781-58c5-4cb0-cd07-fab6b62db132"
      },
      "execution_count": 45,
      "outputs": [
        {
          "output_type": "execute_result",
          "data": {
            "text/plain": [
              "<tensorflow.python.training.tracking.util.CheckpointLoadStatus at 0x7f52c72ffad0>"
            ]
          },
          "metadata": {},
          "execution_count": 45
        }
      ]
    },
    {
      "cell_type": "code",
      "source": [
        "var1"
      ],
      "metadata": {
        "colab": {
          "base_uri": "https://localhost:8080/"
        },
        "id": "XPh250zwvNto",
        "outputId": "d12e8602-d299-40d4-cf3d-9f0d7eb153db"
      },
      "execution_count": 46,
      "outputs": [
        {
          "output_type": "execute_result",
          "data": {
            "text/plain": [
              "<tf.Variable 'Variable:0' shape=(5, 5) dtype=float32, numpy=\n",
              "array([[5., 5., 5., 5., 5.],\n",
              "       [5., 5., 5., 5., 5.],\n",
              "       [5., 5., 5., 5., 5.],\n",
              "       [5., 5., 5., 5., 5.],\n",
              "       [5., 5., 5., 5., 5.]], dtype=float32)>"
            ]
          },
          "metadata": {},
          "execution_count": 46
        }
      ]
    },
    {
      "cell_type": "markdown",
      "source": [
        "#### tf.function\n",
        "z=x3∗6+y3"
      ],
      "metadata": {
        "id": "dlrifbnmHfUV"
      }
    },
    {
      "cell_type": "code",
      "source": [
        "def f1(x,y):\n",
        "  input_var = tf.multiply(x ** 3, 6) + y ** 3\n",
        "  return tf.reduce_mean(input_tensor=input_var)"
      ],
      "metadata": {
        "id": "jTpOfnNDvQhG"
      },
      "execution_count": 47,
      "outputs": []
    },
    {
      "cell_type": "code",
      "source": [
        "func = tf.function(f1)\n",
        "func"
      ],
      "metadata": {
        "colab": {
          "base_uri": "https://localhost:8080/"
        },
        "id": "7zszf47GHnVg",
        "outputId": "c2c0198e-79b2-4d5e-c4f5-151bc4bf7bb9"
      },
      "execution_count": 48,
      "outputs": [
        {
          "output_type": "execute_result",
          "data": {
            "text/plain": [
              "<tensorflow.python.eager.def_function.Function at 0x7f52c48066d0>"
            ]
          },
          "metadata": {},
          "execution_count": 48
        }
      ]
    },
    {
      "cell_type": "code",
      "source": [
        "x = tf.constant([3.,-4.])\n",
        "y = tf.constant([1.,4.])"
      ],
      "metadata": {
        "id": "1NHKdAuAIo0p"
      },
      "execution_count": 49,
      "outputs": []
    },
    {
      "cell_type": "code",
      "source": [
        "f1(x,y) ## using a simple python function                                                           "
      ],
      "metadata": {
        "colab": {
          "base_uri": "https://localhost:8080/"
        },
        "id": "q7LzRkLBIwho",
        "outputId": "d94b3097-81a0-44a8-f558-11caceab4dc7"
      },
      "execution_count": 50,
      "outputs": [
        {
          "output_type": "execute_result",
          "data": {
            "text/plain": [
              "<tf.Tensor: shape=(), dtype=float32, numpy=-78.5>"
            ]
          },
          "metadata": {},
          "execution_count": 50
        }
      ]
    },
    {
      "cell_type": "code",
      "source": [
        "func(x,y)"
      ],
      "metadata": {
        "colab": {
          "base_uri": "https://localhost:8080/"
        },
        "id": "nV00m4i1I4h6",
        "outputId": "1b340c20-98bd-4b0c-da41-46444a946be8"
      },
      "execution_count": 51,
      "outputs": [
        {
          "output_type": "execute_result",
          "data": {
            "text/plain": [
              "<tf.Tensor: shape=(), dtype=float32, numpy=-78.5>"
            ]
          },
          "metadata": {},
          "execution_count": 51
        }
      ]
    },
    {
      "cell_type": "code",
      "source": [
        "@tf.function ## tf decorator function\n",
        "def f2(x, y):\n",
        "  input_var = tf.multiply(x ** 3, 6) + y ** 3\n",
        "  return tf.reduce_mean(input_tensor=input_var)"
      ],
      "metadata": {
        "id": "8coA7-hxJJoP"
      },
      "execution_count": 52,
      "outputs": []
    },
    {
      "cell_type": "code",
      "source": [
        "f2(x,y)"
      ],
      "metadata": {
        "colab": {
          "base_uri": "https://localhost:8080/"
        },
        "id": "z9iduQlDJM4p",
        "outputId": "d2598f65-2b15-4072-eab3-55b9d337f909"
      },
      "execution_count": 53,
      "outputs": [
        {
          "output_type": "execute_result",
          "data": {
            "text/plain": [
              "<tf.Tensor: shape=(), dtype=float32, numpy=-78.5>"
            ]
          },
          "metadata": {},
          "execution_count": 53
        }
      ]
    },
    {
      "cell_type": "markdown",
      "source": [
        "#### Example of decorator"
      ],
      "metadata": {
        "id": "V9uNO-YOJR4L"
      }
    },
    {
      "cell_type": "code",
      "source": [
        "def print_me():\n",
        "  print(\"Hi FSDS\")\n",
        "\n",
        "print_me()"
      ],
      "metadata": {
        "colab": {
          "base_uri": "https://localhost:8080/"
        },
        "id": "pPWzFOHvJOjJ",
        "outputId": "8d823796-8905-466d-ef0b-043ec7cbf50e"
      },
      "execution_count": 54,
      "outputs": [
        {
          "output_type": "stream",
          "name": "stdout",
          "text": [
            "Hi FSDS\n"
          ]
        }
      ]
    },
    {
      "cell_type": "code",
      "source": [
        "print(\"**\"*20)\n",
        "print_me()\n",
        "print(\"**\"*20)"
      ],
      "metadata": {
        "colab": {
          "base_uri": "https://localhost:8080/"
        },
        "id": "_vY56UvOJX0j",
        "outputId": "f91f09df-f339-4902-a51d-88896c95ab12"
      },
      "execution_count": 55,
      "outputs": [
        {
          "output_type": "stream",
          "name": "stdout",
          "text": [
            "****************************************\n",
            "Hi FSDS\n",
            "****************************************\n"
          ]
        }
      ]
    },
    {
      "cell_type": "code",
      "source": [
        "def decorate_it(input_func):\n",
        "  def decorated_func():\n",
        "    print(\"**\"*20)\n",
        "    input_func()\n",
        "    print(\"**\"*20)\n",
        "\n",
        "  return decorated_func"
      ],
      "metadata": {
        "id": "j9TOoj11JfzM"
      },
      "execution_count": 56,
      "outputs": []
    },
    {
      "cell_type": "code",
      "source": [
        "decorated_func = decorate_it(print_me)\n",
        "\n",
        "decorated_func()"
      ],
      "metadata": {
        "colab": {
          "base_uri": "https://localhost:8080/"
        },
        "id": "o8Ykm-ybJzrA",
        "outputId": "70c7cb0d-b292-4216-b926-55c1add9378c"
      },
      "execution_count": 57,
      "outputs": [
        {
          "output_type": "stream",
          "name": "stdout",
          "text": [
            "****************************************\n",
            "Hi FSDS\n",
            "****************************************\n"
          ]
        }
      ]
    },
    {
      "cell_type": "code",
      "source": [
        "@decorate_it\n",
        "def print_me2():\n",
        "  print(\"Hi FSDS\")"
      ],
      "metadata": {
        "id": "Z8fWzX6NJ2OK"
      },
      "execution_count": 58,
      "outputs": []
    },
    {
      "cell_type": "code",
      "source": [
        "print_me2()"
      ],
      "metadata": {
        "colab": {
          "base_uri": "https://localhost:8080/"
        },
        "id": "SAunrb13KK96",
        "outputId": "b0809281-7ecf-441e-cdb4-75634e3ecff9"
      },
      "execution_count": 59,
      "outputs": [
        {
          "output_type": "stream",
          "name": "stdout",
          "text": [
            "****************************************\n",
            "Hi FSDS\n",
            "****************************************\n"
          ]
        }
      ]
    },
    {
      "cell_type": "markdown",
      "source": [
        "#### Calculation of Gradients in tf"
      ],
      "metadata": {
        "id": "kb3_epXuKnnE"
      }
    },
    {
      "cell_type": "code",
      "source": [
        "x = tf.random.normal(shape=(2,2)) ## this creates a const by default\n",
        "y = tf.random.normal(shape=(2,2))\n",
        "x"
      ],
      "metadata": {
        "colab": {
          "base_uri": "https://localhost:8080/"
        },
        "id": "aRVe_g_RKNAb",
        "outputId": "6b535a86-2d27-4f6c-b5db-776fb092e299"
      },
      "execution_count": 60,
      "outputs": [
        {
          "output_type": "execute_result",
          "data": {
            "text/plain": [
              "<tf.Tensor: shape=(2, 2), dtype=float32, numpy=\n",
              "array([[-0.2508719 ,  0.32828832],\n",
              "       [-1.9369104 , -1.4564548 ]], dtype=float32)>"
            ]
          },
          "metadata": {},
          "execution_count": 60
        }
      ]
    },
    {
      "cell_type": "code",
      "source": [
        "tf.square(x)"
      ],
      "metadata": {
        "colab": {
          "base_uri": "https://localhost:8080/"
        },
        "id": "M9i9Z5ZbwMSV",
        "outputId": "bd2862ed-247d-4817-da73-bf0b84a4ab31"
      },
      "execution_count": 61,
      "outputs": [
        {
          "output_type": "execute_result",
          "data": {
            "text/plain": [
              "<tf.Tensor: shape=(2, 2), dtype=float32, numpy=\n",
              "array([[0.06293671, 0.10777322],\n",
              "       [3.751622  , 2.1212604 ]], dtype=float32)>"
            ]
          },
          "metadata": {},
          "execution_count": 61
        }
      ]
    },
    {
      "cell_type": "code",
      "source": [
        "with tf.GradientTape() as tape:\n",
        "  tape.watch(x)\n",
        "  f=tf.sqrt(tf.square(x)+ tf.square(y))\n",
        "  df_dx= tape.gradient(f,x)\n",
        "\n",
        "  print(df_dx)"
      ],
      "metadata": {
        "id": "DLI8ZkUOMjqJ",
        "colab": {
          "base_uri": "https://localhost:8080/"
        },
        "outputId": "51aee279-293f-4572-e5bd-62c025ea5150"
      },
      "execution_count": 63,
      "outputs": [
        {
          "output_type": "stream",
          "name": "stdout",
          "text": [
            "tf.Tensor(\n",
            "[[-0.11230273  0.40596002]\n",
            " [-0.8682456  -0.82300293]], shape=(2, 2), dtype=float32)\n"
          ]
        }
      ]
    },
    {
      "cell_type": "code",
      "source": [
        "with tf.GradientTape() as tape:\n",
        "  tape.watch(y)\n",
        "  f=tf.sqrt(tf.square(x)+ tf.square(y))\n",
        "  df_dy= tape.gradient(f,y)\n",
        "  print(df_dy)"
      ],
      "metadata": {
        "colab": {
          "base_uri": "https://localhost:8080/"
        },
        "id": "NajQGb3awbgT",
        "outputId": "2f701dbb-3a49-4825-e891-ea45d4067d31"
      },
      "execution_count": 65,
      "outputs": [
        {
          "output_type": "stream",
          "name": "stdout",
          "text": [
            "tf.Tensor(\n",
            "[[ 0.993674   -0.9138908 ]\n",
            " [-0.49613467 -0.56803715]], shape=(2, 2), dtype=float32)\n"
          ]
        }
      ]
    },
    {
      "cell_type": "code",
      "source": [
        "## tf.watch is only needed when X and Y are not variables\n",
        "\n",
        "with tf.GradientTape() as tape:\n",
        "  tape.watch(y)\n",
        "  tape.watch(x)\n",
        "  f=tf.sqrt(tf.square(x)+ tf.square(y))\n",
        "  df_dx , df_dy = tape.gradient(f, [x,y])\n",
        "  print(df_dx)\n",
        "  print(df_dy)"
      ],
      "metadata": {
        "colab": {
          "base_uri": "https://localhost:8080/"
        },
        "id": "sfyTykJZxZbR",
        "outputId": "33a1a760-bcf2-4286-e1c6-d1be37075c45"
      },
      "execution_count": 67,
      "outputs": [
        {
          "output_type": "stream",
          "name": "stdout",
          "text": [
            "tf.Tensor(\n",
            "[[-0.11230273  0.40596002]\n",
            " [-0.8682456  -0.82300293]], shape=(2, 2), dtype=float32)\n",
            "tf.Tensor(\n",
            "[[ 0.993674   -0.9138908 ]\n",
            " [-0.49613467 -0.56803715]], shape=(2, 2), dtype=float32)\n"
          ]
        }
      ]
    },
    {
      "cell_type": "code",
      "source": [
        "with tf.GradientTape() as tape:\n",
        "  f = tf.sqrt(tf.square(x) + tf.square(y))\n",
        "\n",
        "  df_dx, df_dy = tape.gradient(f, [x, y]) ## partial diff wrt x and y\n",
        "\n",
        "  print(df_dx)\n",
        "  print(df_dy)"
      ],
      "metadata": {
        "colab": {
          "base_uri": "https://localhost:8080/"
        },
        "id": "BRFl7PgG1ObW",
        "outputId": "6b4d20cb-4a32-4e1a-ade0-13b0d4b50121"
      },
      "execution_count": 68,
      "outputs": [
        {
          "output_type": "stream",
          "name": "stdout",
          "text": [
            "None\n",
            "None\n"
          ]
        }
      ]
    },
    {
      "cell_type": "code",
      "source": [
        "x = tf.Variable(tf.random.normal(shape=(2,2)))\n",
        "y = tf.Variable(tf.random.normal(shape=(2,2)))"
      ],
      "metadata": {
        "id": "M98x_04g1WK8"
      },
      "execution_count": 69,
      "outputs": []
    },
    {
      "cell_type": "code",
      "source": [
        "with tf.GradientTape() as tape:\n",
        "  f=tf.square(tf.square(x)+ tf.square(y))\n",
        "  df_dx, df_dy = tape.gradient(f, [x, y]) ## partial diff wrt x and y\n",
        "\n",
        "  print(df_dx)\n",
        "  print(df_dy)"
      ],
      "metadata": {
        "colab": {
          "base_uri": "https://localhost:8080/"
        },
        "id": "zOclcmq81wyu",
        "outputId": "c5f160e5-d4cd-4558-d753-7d986e27b135"
      },
      "execution_count": 73,
      "outputs": [
        {
          "output_type": "stream",
          "name": "stdout",
          "text": [
            "tf.Tensor(\n",
            "[[-6.724861   -0.44532672]\n",
            " [ 3.1736479   5.8354397 ]], shape=(2, 2), dtype=float32)\n",
            "tf.Tensor(\n",
            "[[-0.36198622  0.15327038]\n",
            " [ 5.888345    1.7242359 ]], shape=(2, 2), dtype=float32)\n"
          ]
        }
      ]
    },
    {
      "cell_type": "markdown",
      "source": [],
      "metadata": {
        "id": "8hDLZyqV3iVe"
      }
    },
    {
      "cell_type": "code",
      "source": [
        "f=tf.square(tf.square(x)+ tf.square(y))\n",
        "f"
      ],
      "metadata": {
        "colab": {
          "base_uri": "https://localhost:8080/"
        },
        "id": "x3T5Uhe33cEh",
        "outputId": "375386cb-7d52-42fc-e596-f7781150bc06"
      },
      "execution_count": 71,
      "outputs": [
        {
          "output_type": "execute_result",
          "data": {
            "text/plain": [
              "<tf.Tensor: shape=(2, 2), dtype=float32, numpy=\n",
              "array([[2.002944  , 0.05770823],\n",
              "       [1.9849402 , 1.7495221 ]], dtype=float32)>"
            ]
          },
          "metadata": {},
          "execution_count": 71
        }
      ]
    },
    {
      "cell_type": "code",
      "source": [
        "x = tf.Variable(3.)\n",
        "y = tf.Variable(2.)"
      ],
      "metadata": {
        "id": "4Ea7M4fb3cpt"
      },
      "execution_count": 74,
      "outputs": []
    },
    {
      "cell_type": "code",
      "source": [
        "with tf.GradientTape() as tape:\n",
        "  f = tf.sqrt(tf.square(x) + tf.square(y))\n",
        "\n",
        "  df_dx, df_dy = tape.gradient(f, [x, y]) ## partial diff wrt x and y\n",
        "\n",
        "  print(df_dx)\n",
        "  print(df_dy)"
      ],
      "metadata": {
        "colab": {
          "base_uri": "https://localhost:8080/"
        },
        "id": "Xd4BnINc3qB2",
        "outputId": "ec57f956-2d61-4423-edcf-4992dc26ea8c"
      },
      "execution_count": 75,
      "outputs": [
        {
          "output_type": "stream",
          "name": "stdout",
          "text": [
            "tf.Tensor(0.8320503, shape=(), dtype=float32)\n",
            "tf.Tensor(0.5547002, shape=(), dtype=float32)\n"
          ]
        }
      ]
    },
    {
      "cell_type": "markdown",
      "source": [
        "# Simple linear regression example\n",
        "```\n",
        "# This is formatted as code\n",
        "```\n",
        "\n",
        "$f(x) = W.x + b$"
      ],
      "metadata": {
        "id": "BnXKF1yx3vRg"
      }
    },
    {
      "cell_type": "code",
      "source": [
        "TRUE_W = 3.0\n",
        "TRUE_B = 2.0\n",
        "\n",
        "NUM_EXAMPLES = 1000\n",
        "\n",
        "x= tf.random.normal(shape=[NUM_EXAMPLES])"
      ],
      "metadata": {
        "id": "lddBpN173r8P"
      },
      "execution_count": 81,
      "outputs": []
    },
    {
      "cell_type": "code",
      "source": [
        "noise = tf.random.normal(shape=[NUM_EXAMPLES])\n",
        "noise"
      ],
      "metadata": {
        "colab": {
          "base_uri": "https://localhost:8080/"
        },
        "id": "ABg5X9Wk4HmK",
        "outputId": "1f2565d3-2018-4e59-e45f-6e074b4d0314"
      },
      "execution_count": 80,
      "outputs": [
        {
          "output_type": "execute_result",
          "data": {
            "text/plain": [
              "<tf.Tensor: shape=(1000,), dtype=float32, numpy=\n",
              "array([ 1.04380369e+00, -2.50060350e-01, -7.96657860e-01,  1.34672594e+00,\n",
              "        1.31858921e+00, -8.33290696e-01,  6.97140932e-01, -3.54643136e-01,\n",
              "        4.34713930e-01, -1.35344315e+00,  6.40472949e-01,  2.91465998e-01,\n",
              "       -1.06557655e+00, -3.01358253e-01,  5.55884004e-01,  1.07239974e+00,\n",
              "        7.78448805e-02,  2.03297758e+00, -4.40619379e-01, -5.81034601e-01,\n",
              "        1.82130083e-01, -1.35167527e+00, -1.09826279e+00,  8.00272167e-01,\n",
              "       -1.66304028e+00, -6.49915859e-02,  1.04374909e+00, -8.05444598e-01,\n",
              "        4.74017933e-02, -2.06237897e-01, -1.07302701e+00, -1.85499057e-01,\n",
              "       -1.34491765e+00, -1.04007173e+00, -2.20294738e+00,  1.26374811e-01,\n",
              "       -2.21205562e-01,  2.08302093e+00, -6.48375869e-01, -4.97224689e-01,\n",
              "       -1.46255147e+00, -6.39440343e-02,  1.01827562e+00, -4.10569012e-01,\n",
              "       -6.97946101e-02, -2.40079188e+00, -1.42814577e+00, -2.02461076e+00,\n",
              "        3.40282559e-01, -2.96385705e-01,  4.59665090e-01, -9.73993063e-01,\n",
              "       -3.58503789e-01,  7.92768955e-01, -2.57919937e-01,  1.35446084e+00,\n",
              "       -2.08958364e+00, -1.02424657e+00,  6.15011632e-01, -1.03565574e+00,\n",
              "       -2.60562032e-01, -9.88031253e-02,  3.95773798e-01, -1.38823724e+00,\n",
              "       -2.47347713e-01, -4.94997978e-01,  8.18863988e-01, -1.33764124e+00,\n",
              "        5.53819299e-01,  4.27505285e-01,  9.74601805e-02,  1.82931876e+00,\n",
              "        3.11939508e-01, -6.92378879e-01, -4.11639810e-01, -1.34350002e-01,\n",
              "        2.33049774e+00,  3.06965280e+00, -2.00484371e+00,  7.67949939e-01,\n",
              "        8.46949339e-01, -5.29561639e-01,  5.09234548e-01,  1.87533289e-01,\n",
              "       -1.66006088e-01, -1.27911758e+00, -2.03691646e-01,  5.18126845e-01,\n",
              "       -9.80559230e-01,  1.16510296e+00, -7.65590146e-02,  9.35442388e-01,\n",
              "        2.43213415e-01,  7.91283786e-01, -4.90623713e-02,  1.41831815e+00,\n",
              "       -6.09810293e-01,  2.28637791e+00,  2.06979465e+00, -1.12121642e+00,\n",
              "       -1.16343272e+00, -5.60455561e-01, -2.50893950e-01, -3.81790787e-01,\n",
              "       -4.86409217e-01,  2.29858235e-01, -1.44271553e+00,  7.73164392e-01,\n",
              "       -9.43606436e-01, -1.15199804e+00, -1.31747186e-01, -3.61967295e-01,\n",
              "       -1.57544458e+00,  3.78911138e-01, -5.78983128e-01, -3.68599236e-01,\n",
              "        7.63597727e-01,  5.28440058e-01, -1.90956354e-01, -6.82088494e-01,\n",
              "        3.39333923e-03,  8.55929255e-02, -1.49185848e+00,  3.14156353e-01,\n",
              "        8.89239728e-01, -2.03667525e-02,  1.50465167e+00, -1.77319074e+00,\n",
              "       -7.51133382e-01, -6.27867877e-01, -7.75699198e-01, -4.31050181e-01,\n",
              "        7.23836780e-01, -8.97569001e-01,  2.37845510e-01,  4.54374075e-01,\n",
              "       -3.84808332e-01,  4.24188703e-01, -5.62264442e-01, -5.25729835e-01,\n",
              "        1.11624897e+00, -8.43704283e-01, -1.11016981e-01, -1.67756414e+00,\n",
              "       -1.82280734e-01,  2.74433911e-01, -2.49125332e-01,  7.54610240e-01,\n",
              "       -6.75342381e-01, -4.44809824e-01,  4.78547633e-01,  1.47053003e-01,\n",
              "       -4.08660054e-01, -1.19326070e-01,  1.10602844e+00,  7.24099457e-01,\n",
              "        1.07286386e-01,  2.53864479e+00, -1.28649449e+00,  7.45415151e-01,\n",
              "        1.10114205e+00, -9.50286329e-01,  1.93307889e+00,  4.23582375e-01,\n",
              "       -2.68847853e-01,  1.28180635e+00,  1.70442387e-01,  3.35963666e-02,\n",
              "       -2.95397252e-01, -4.52744752e-01,  6.54543877e-01,  8.23546588e-01,\n",
              "       -5.92966795e-01, -1.50401986e+00, -1.39054954e+00,  9.19645965e-01,\n",
              "        4.11387265e-01, -2.36921087e-02,  5.27653433e-02,  7.83787966e-01,\n",
              "        4.83831435e-01, -1.40314448e+00,  1.20546138e+00,  9.56563056e-02,\n",
              "        1.74461055e+00,  1.04049075e+00, -5.95092058e-01, -8.23762953e-01,\n",
              "        6.12798393e-01,  4.21445042e-01,  1.15057981e+00,  1.07986665e+00,\n",
              "       -1.16162337e-02, -7.04109490e-01,  1.81109801e-01, -8.29516128e-02,\n",
              "        1.63452312e-01, -1.65925169e+00, -2.96707511e-01, -9.42053139e-01,\n",
              "       -9.83541191e-01, -9.58090782e-01,  1.71827406e-01, -8.46172750e-01,\n",
              "       -2.01860166e+00, -4.21654522e-01, -9.51739788e-01, -8.00280750e-01,\n",
              "        6.34207368e-01, -5.35945296e-01, -1.31140327e+00,  1.40684342e+00,\n",
              "       -1.40310347e-01,  1.18931067e+00, -4.72118139e-01,  6.69003308e-01,\n",
              "        1.23598373e+00, -2.04982042e-01,  1.59839547e+00, -1.80313528e-01,\n",
              "       -1.42903352e+00, -2.65081823e-01, -6.24061674e-02,  4.67754975e-02,\n",
              "       -1.02435958e+00,  4.89323586e-01, -1.06152749e+00, -2.07011297e-01,\n",
              "        1.74138129e+00,  1.60331261e+00, -1.34889519e+00,  4.03702497e-01,\n",
              "       -4.20568049e-01,  8.22413325e-01, -1.69068146e+00,  3.89268361e-02,\n",
              "        9.73801374e-01,  2.65460896e+00, -1.20187986e+00,  4.23788130e-01,\n",
              "        6.49048984e-01,  1.66116476e+00,  5.43629825e-02, -1.74152672e-01,\n",
              "        1.43636620e+00, -5.04647255e-01,  3.29454482e-01,  1.47944719e-01,\n",
              "       -1.79863632e-01,  1.45660710e+00,  8.73381972e-01, -1.06724274e+00,\n",
              "        3.07550728e-01, -6.51162207e-01,  3.69027793e-01, -2.30678752e-01,\n",
              "       -2.60999632e+00, -1.09628427e+00, -9.27113175e-01,  8.66822898e-02,\n",
              "       -7.62235463e-01, -4.61025864e-01,  5.92069849e-02,  3.75705183e-01,\n",
              "        1.31710577e+00,  1.44580454e-01,  2.27809757e-01,  1.57342762e-01,\n",
              "        5.02928615e-01, -6.03138566e-01,  1.53881800e+00,  3.99349146e-02,\n",
              "        5.68553209e-01,  9.25280690e-01,  1.36756015e+00, -6.22401416e-01,\n",
              "       -1.44678283e+00,  5.94569445e-02, -7.48496592e-01, -6.23546541e-01,\n",
              "       -2.11629406e-01,  2.07056928e+00, -1.21887791e+00,  1.54702199e+00,\n",
              "        5.99104464e-01,  3.44700128e-01, -1.26388943e+00,  2.23187760e-01,\n",
              "        1.00407735e-01, -4.19709623e-01, -8.07406783e-01, -1.40811741e+00,\n",
              "       -6.64682567e-01,  1.33658722e-01,  1.66796264e-03, -7.74003267e-01,\n",
              "       -2.71401811e+00, -6.22742116e-01,  2.09227037e+00, -5.38793169e-02,\n",
              "        2.50888735e-01, -1.16171527e+00,  1.39030170e+00, -7.45396137e-01,\n",
              "        1.05403936e+00,  3.14828008e-01, -1.88923657e+00, -1.13393545e+00,\n",
              "        3.06232691e-01, -5.53879023e-01,  1.41864765e+00,  4.44484532e-01,\n",
              "       -7.50550628e-01, -2.71562368e-01, -1.19993567e+00, -9.99014318e-01,\n",
              "        7.35231161e-01,  1.01350307e+00,  2.54949713e+00, -5.03478646e-01,\n",
              "        8.58425498e-01,  7.68244863e-01, -1.40543473e+00,  1.24311233e+00,\n",
              "        1.36776912e+00, -1.08938837e+00, -8.14385414e-01,  7.00245678e-01,\n",
              "       -2.85910398e-01,  2.86105901e-01, -8.58375728e-02,  3.80054303e-02,\n",
              "        3.43299657e-01,  1.11153269e+00, -1.65792286e+00, -9.57253635e-01,\n",
              "        6.69933081e-01, -6.22563303e-01,  1.64566841e-02,  1.26883602e+00,\n",
              "       -1.46090835e-01,  7.42587805e-01, -5.96202195e-01, -7.52845228e-01,\n",
              "       -8.62401605e-01, -1.33378518e+00, -8.52003455e-01, -3.25626843e-02,\n",
              "        4.56814080e-01,  1.09839487e+00,  7.20032454e-01,  1.65155962e-01,\n",
              "        3.70061308e-01, -6.10678136e-01,  2.97339618e-01,  1.32965624e+00,\n",
              "        8.87368202e-01, -1.07483828e+00,  3.43689293e-01,  1.06698704e+00,\n",
              "       -1.98326743e+00, -8.73440385e-01, -1.55346048e+00, -1.87550437e+00,\n",
              "       -1.78633153e+00, -1.41080594e+00,  1.01639954e-02,  1.53920543e+00,\n",
              "       -7.84269348e-02, -2.14323133e-01,  2.36021101e-01, -4.35542136e-01,\n",
              "        1.02095008e+00, -1.23931670e+00,  1.06816006e+00, -1.91885507e+00,\n",
              "        6.50968254e-01, -3.28419417e-01,  9.65386093e-01,  1.01329422e+00,\n",
              "        9.02161449e-02,  8.39874595e-02, -5.58077931e-01,  1.69002503e-01,\n",
              "        8.62850666e-01, -3.44958365e-01, -6.15910649e-01, -2.02485251e+00,\n",
              "        1.68823528e+00, -1.76151824e+00, -7.34109521e-01, -7.43614256e-01,\n",
              "       -4.53748554e-01,  1.33900249e+00, -3.03751349e-01, -1.38950324e+00,\n",
              "       -1.70927763e+00, -1.67639124e+00,  5.35442114e-01, -9.67049479e-01,\n",
              "        1.14702785e+00,  3.62465560e-01,  2.47154608e-01,  4.15980965e-01,\n",
              "       -4.16811965e-02, -1.70745027e+00,  5.97730160e-01,  4.14433628e-01,\n",
              "        5.81966460e-01, -1.42761922e+00,  1.65874407e-01,  3.63340735e-01,\n",
              "        1.06022537e+00, -3.55713487e-01, -9.10839885e-02,  1.22022793e-01,\n",
              "       -3.22739661e-01,  3.69440019e-01,  1.12767005e+00,  1.66750118e-01,\n",
              "       -3.25565785e-01,  7.88585603e-01,  1.10863316e+00, -4.64571826e-02,\n",
              "       -2.47420955e+00, -1.18392181e+00,  2.87844837e-01, -1.26581919e+00,\n",
              "        5.71400642e-01, -1.85053849e+00, -1.49250090e+00,  7.95564592e-01,\n",
              "        1.03736424e+00, -4.73439962e-01,  8.38635683e-01,  1.06735098e+00,\n",
              "        2.03910017e+00,  1.18785226e+00,  1.30672431e+00,  4.28848714e-02,\n",
              "        1.83981270e-01, -1.77037752e+00,  5.09007573e-01,  1.22913170e+00,\n",
              "       -7.50689924e-01, -7.47556567e-01,  7.12552249e-01,  3.73570979e-01,\n",
              "        7.70541131e-01,  3.12846228e-02,  1.37896919e+00, -2.61884618e+00,\n",
              "        4.73155916e-01, -2.27795199e-01, -6.83086038e-01,  1.16408277e+00,\n",
              "       -1.75401378e+00,  7.66457081e-01,  6.68383002e-01,  3.73473135e-03,\n",
              "       -1.47483242e+00,  3.35313141e-01, -1.12797463e+00,  2.53243351e+00,\n",
              "       -5.60287535e-01, -1.38146687e+00,  7.46547043e-01,  3.41506749e-01,\n",
              "        1.20869696e+00, -2.40586972e+00,  7.53030717e-01, -1.99727905e+00,\n",
              "       -1.13715518e+00, -1.50255370e+00,  9.35634255e-01,  7.61854112e-01,\n",
              "        1.40578896e-01, -5.05691245e-02, -6.40549883e-02,  3.01047862e-01,\n",
              "       -9.81847525e-01,  1.71152496e+00, -8.94699216e-01, -8.00120175e-01,\n",
              "       -7.56410956e-01,  2.46406126e+00, -2.11139292e-01, -6.70335352e-01,\n",
              "       -2.90557921e-01,  5.22840381e-01,  5.43133736e-01,  1.14295065e+00,\n",
              "        2.17142597e-01,  1.37849703e-01,  1.65743303e+00, -1.14241326e+00,\n",
              "        1.54541957e+00,  1.87974334e+00,  1.42464375e+00,  1.32159066e+00,\n",
              "        6.50300384e-02, -1.13889110e+00, -3.43814701e-01,  9.08426106e-01,\n",
              "       -1.24047124e+00, -7.30422318e-01, -7.14967668e-01,  6.63532019e-01,\n",
              "       -8.91602114e-02, -2.08170280e-01, -3.41233104e-01, -5.71421266e-01,\n",
              "        8.72679725e-02, -2.10399485e+00,  8.13415870e-02, -6.19707584e-01,\n",
              "       -9.65111494e-01,  2.68527895e-01,  8.77517521e-01,  1.12462926e+00,\n",
              "       -9.10074413e-01, -1.66034728e-01,  5.76546729e-01, -2.97959149e-01,\n",
              "       -1.13424897e+00,  5.14367640e-01,  9.81173694e-01, -6.16304338e-01,\n",
              "        6.57986283e-01,  3.19258779e-01, -1.02113128e+00, -2.60613650e-01,\n",
              "        1.12284291e+00, -5.45960031e-02, -4.70871389e-01, -6.07030392e-01,\n",
              "        3.29236984e-01, -9.46862876e-01, -2.04447579e+00, -2.09954929e+00,\n",
              "        2.38076067e+00,  2.75646355e-02,  1.59291017e+00,  3.88500303e-01,\n",
              "       -1.07921934e+00, -1.05236813e-01, -4.14475411e-01,  5.85245669e-01,\n",
              "       -1.33626485e+00, -3.37569427e+00, -3.46783251e-01,  8.62910450e-01,\n",
              "        5.37803650e-01,  1.25815079e-01, -1.62801421e+00,  2.52437413e-01,\n",
              "       -6.34401143e-01, -1.28397739e+00, -2.65173912e-01,  1.11230813e-01,\n",
              "       -2.20345640e+00,  5.42323411e-01, -1.04788303e+00, -1.34360743e+00,\n",
              "        7.26467311e-01,  1.03965616e+00, -6.05164647e-01, -1.32672858e+00,\n",
              "        1.76123703e+00, -6.94977939e-01, -8.01352918e-01, -1.18310976e+00,\n",
              "        2.00686169e+00,  5.12358844e-01,  6.71921372e-01,  7.15289414e-01,\n",
              "       -3.06444883e-01,  2.29244322e-01, -1.39767373e+00,  4.29656178e-01,\n",
              "       -6.40805960e-02, -1.42041683e-01,  8.33923399e-01,  1.62195116e-01,\n",
              "       -6.12870336e-01, -4.10175264e-01,  1.57914627e+00, -2.01549006e+00,\n",
              "       -1.09040928e+00,  7.06635237e-01, -4.95145530e-01,  1.71974987e-01,\n",
              "       -8.42525601e-01,  8.40454102e-01,  8.65766466e-01,  1.25114536e+00,\n",
              "        2.84101933e-01,  1.59107387e+00, -8.92489254e-01, -1.34603810e+00,\n",
              "       -6.01802059e-02, -1.36687148e+00,  1.01975715e+00,  7.66967177e-01,\n",
              "       -1.36510885e+00,  1.24293983e+00,  2.31693342e-01,  6.43624783e-01,\n",
              "        1.24803495e+00, -1.54047942e+00,  4.75876868e-01, -6.61428750e-01,\n",
              "       -1.01464592e-01,  8.29872191e-01, -8.62650752e-01, -3.24405670e-01,\n",
              "       -6.91737652e-01,  1.13000286e+00, -6.47366494e-02,  3.97962958e-01,\n",
              "       -1.91573536e+00,  1.29194725e+00,  6.41718209e-01, -2.04197454e+00,\n",
              "       -8.32309663e-01, -2.14957333e+00, -1.05524373e+00,  7.59443045e-01,\n",
              "       -6.67837143e-01,  6.59609810e-02,  1.93857178e-01,  1.38003695e+00,\n",
              "       -8.21283996e-01,  1.08291864e+00, -2.13354155e-01,  1.92847960e-02,\n",
              "        1.30541289e+00,  1.24678612e+00,  1.24861252e+00,  2.85284668e-01,\n",
              "        9.11001146e-01,  5.93742967e-01, -7.11944520e-01, -5.67923784e-02,\n",
              "       -9.36677027e-03, -9.71956491e-01, -1.19338012e+00,  1.94804251e+00,\n",
              "        2.11671042e+00, -2.65420389e+00,  4.14895087e-01,  3.89844090e-01,\n",
              "        2.00850546e-01,  6.28658414e-01, -1.06994890e-01, -5.71537077e-01,\n",
              "        2.03031993e+00,  1.02100885e+00, -4.60691005e-03, -3.75314094e-02,\n",
              "        1.32653618e+00, -1.95094794e-01,  6.33398592e-01,  1.73388040e+00,\n",
              "       -1.13014436e+00,  1.65336931e+00, -1.99792242e+00, -1.09128928e+00,\n",
              "       -5.49224436e-01,  5.50978065e-01,  8.04483354e-01,  1.41149044e+00,\n",
              "       -9.51126590e-02, -1.84567070e+00, -7.02709779e-02,  1.05428386e+00,\n",
              "       -1.79923654e-01, -3.49610955e-01,  2.76868343e+00, -1.38722646e+00,\n",
              "       -1.34169916e-02,  1.41851962e-01, -1.07768762e+00,  2.08501101e+00,\n",
              "        1.45029271e+00,  1.86813641e+00,  1.03526590e-02,  1.06129754e+00,\n",
              "        1.61079144e+00,  6.69330060e-01, -1.21290600e+00, -1.30374599e+00,\n",
              "        2.69612640e-01,  2.29998186e-01, -1.43019423e-01,  2.59988338e-01,\n",
              "       -9.65206206e-01,  5.63270509e-01,  9.71530676e-01, -5.34537792e-01,\n",
              "        2.06718728e-01, -1.61880457e+00, -8.85404170e-01, -1.08501089e+00,\n",
              "        3.81560266e-01,  1.41897291e-01, -3.54125917e-01,  4.12248701e-01,\n",
              "       -4.67997015e-01,  9.83387753e-02, -3.91216606e-01, -8.81910801e-01,\n",
              "       -9.54280376e-01,  9.99800041e-02, -2.71057129e-01, -8.45850050e-01,\n",
              "        5.48946381e-01, -3.93843353e-01, -6.99170828e-01, -3.78818326e-02,\n",
              "        1.47852838e+00,  1.04630196e+00,  5.39047658e-01,  5.40722549e-01,\n",
              "       -2.38547936e-01, -1.98364496e+00,  1.21286549e-01,  1.25412738e+00,\n",
              "       -3.87460031e-02,  8.59995782e-01,  4.19320107e-01, -3.65112334e-01,\n",
              "       -3.50487679e-01, -2.08276677e+00, -7.19033897e-01,  2.78091013e-01,\n",
              "        5.85180938e-01, -8.86955142e-01, -4.16282028e-01, -1.45674658e+00,\n",
              "       -4.23444599e-01,  1.61533728e-01,  1.81368673e+00,  3.66699815e-01,\n",
              "       -6.87091291e-01,  7.09655166e-01,  2.36509785e-01, -7.86993980e-01,\n",
              "       -2.13868007e-01,  4.42415446e-01, -7.81806946e-01, -2.35551643e+00,\n",
              "        8.18698585e-01,  6.84191048e-01, -9.34952319e-01,  6.65258884e-01,\n",
              "        3.47163022e-01, -2.37550899e-01, -1.75630260e+00, -9.44329679e-01,\n",
              "       -1.71602869e+00, -1.12594557e+00,  7.47196972e-01,  4.68726486e-01,\n",
              "        3.49384785e-01,  6.40063226e-01, -1.78342032e+00,  8.31441224e-01,\n",
              "        5.77630341e-01, -5.71240373e-02, -1.24484932e+00, -5.20346701e-01,\n",
              "        1.79490817e+00,  1.19916761e+00,  3.30240041e-01,  1.08891137e-01,\n",
              "        3.23410511e-01, -5.27531087e-01,  6.29487038e-02, -2.64843693e-03,\n",
              "        2.48473644e-01, -4.24616545e-01, -2.60980201e+00, -4.19216491e-02,\n",
              "        1.51895130e+00,  1.84515893e+00,  1.28164613e+00, -1.04451430e+00,\n",
              "       -8.93073261e-01,  4.90833938e-01, -1.86985210e-01, -1.08417773e+00,\n",
              "        6.31205142e-01, -1.33011901e+00, -8.65145683e-01,  1.22768819e+00,\n",
              "       -6.02368414e-01, -1.41987967e+00, -3.81224245e-01,  7.69342005e-01,\n",
              "        1.17710270e-01,  1.99239343e-01,  7.62298048e-01,  9.74667609e-01,\n",
              "       -3.08069140e-01, -1.07057810e+00,  1.00961041e+00,  1.06704426e+00,\n",
              "        9.50729012e-01,  1.05555582e+00, -5.70450604e-01,  8.81279171e-01,\n",
              "        9.01718974e-01,  8.16830158e-01,  1.74589500e-01, -2.65266448e-01,\n",
              "        8.96499515e-01,  3.61863166e-01,  5.23892522e-01, -8.17976654e-01,\n",
              "       -1.22398770e+00,  1.17443636e-01,  1.59192729e+00,  1.46833241e+00,\n",
              "        4.15284395e-01, -1.79403320e-01,  4.76583123e-01,  8.71189892e-01,\n",
              "       -5.21853626e-01, -7.47503340e-01, -1.31801522e+00,  1.50424585e-01,\n",
              "       -1.43208459e-01, -1.89396098e-01,  7.56597281e-01,  1.22778916e+00,\n",
              "        3.75022739e-01,  5.91184422e-02,  1.64493358e+00, -1.10479629e+00,\n",
              "       -1.15569246e+00,  1.20845461e+00, -4.04095128e-02, -5.13630807e-01,\n",
              "        1.36238241e+00,  1.97838321e-01,  9.37391460e-01,  1.70943618e+00,\n",
              "       -4.88359481e-01, -1.35588837e+00,  7.78038323e-01, -2.12299967e+00,\n",
              "        1.20984852e+00,  1.24032021e-01, -2.63438582e+00,  1.17578328e+00,\n",
              "        5.89616656e-01, -5.25445461e-01,  1.05808508e+00, -7.17618823e-01,\n",
              "        1.68202198e+00, -1.43807709e-01,  3.92277688e-01,  5.85647166e-01,\n",
              "       -1.23202324e+00,  3.18126529e-01,  7.99715459e-01,  2.25372002e-01,\n",
              "       -1.00197375e+00,  1.79311562e+00,  4.46369469e-01, -5.74470758e-01,\n",
              "        3.78764838e-01,  2.83513784e-01,  1.21840857e-01, -2.14230537e-01,\n",
              "       -3.46785411e-04,  1.24183798e+00, -1.39996171e-01, -1.02411985e+00,\n",
              "        7.39901602e-01,  6.94337428e-01,  1.39993691e+00, -1.37051916e+00,\n",
              "        2.47510433e-01, -1.99346051e-01, -3.30670178e-01, -9.87372637e-01,\n",
              "       -1.42490208e+00, -1.52423456e-01,  1.22595024e+00,  7.80898407e-02,\n",
              "       -1.30364525e+00, -6.87647760e-01, -6.23621404e-01, -8.44089150e-01,\n",
              "       -7.75873601e-01, -8.81922245e-01,  2.21951917e-01, -1.68541204e-02,\n",
              "        1.79091245e-01,  1.56505740e+00,  2.62395859e-01,  5.40832102e-01,\n",
              "        2.22335801e-01, -6.71830535e-01,  2.67285079e-01, -1.17986524e+00,\n",
              "       -1.21581423e+00,  2.93761492e-01, -8.63173604e-02, -1.31039572e+00,\n",
              "       -1.06646109e+00, -9.07682836e-01,  1.24198295e-01, -1.47435260e+00,\n",
              "       -7.73041546e-01,  1.18945575e+00, -1.31706226e+00, -8.29454422e-01,\n",
              "        2.83340812e-01, -2.16404510e+00,  1.56660378e+00, -4.02157485e-01,\n",
              "        1.84046134e-01,  9.58158970e-01, -1.00454517e-01,  2.18229666e-01,\n",
              "        7.34736264e-01, -8.18051517e-01, -4.39989060e-01,  3.61603320e-01,\n",
              "        8.26390147e-01, -1.29324663e+00, -2.00227603e-01,  5.39441466e-01,\n",
              "        1.53631067e+00, -1.96878150e-01,  3.53584528e-01,  4.23952669e-01,\n",
              "        5.26946008e-01, -3.73128325e-01, -2.86288589e-01,  1.84084439e+00,\n",
              "        3.55854869e-01, -1.43288565e+00,  9.40372229e-01, -1.11620140e+00,\n",
              "        2.20415056e-01,  4.79582578e-01, -8.49194229e-02, -1.09605417e-02,\n",
              "        9.55327392e-01, -1.80376446e+00, -4.79033500e-01, -1.31249785e+00,\n",
              "        9.40181017e-01,  1.24415815e+00, -1.25836551e+00,  4.73290920e-01,\n",
              "        6.51174068e-01, -1.24000102e-01, -1.82850748e-01, -2.56940238e-02,\n",
              "        1.43507540e+00,  9.72915113e-01,  4.82610703e-01, -2.56578863e-01,\n",
              "       -8.56167972e-01,  5.46645403e-01,  1.03913522e+00, -1.68377399e+00,\n",
              "        7.75694788e-01,  9.40989733e-01,  3.11977863e-01, -5.90420783e-01,\n",
              "       -9.73931313e-01,  2.79797971e-01,  3.11896533e-01, -1.41188920e+00,\n",
              "        1.59039184e-01,  8.20905387e-01,  7.56412268e-01,  3.41673076e-01,\n",
              "        5.40615082e-01,  9.18659419e-02, -2.68611759e-01, -8.72703195e-01,\n",
              "       -7.32570589e-02, -5.93140244e-01, -3.56941313e-01,  1.54426181e+00,\n",
              "        6.35523260e-01, -2.74221480e-01, -1.96912840e-01, -1.90895212e+00,\n",
              "        4.43087593e-02, -2.87368685e-01, -1.18282449e+00, -3.41010332e-01],\n",
              "      dtype=float32)>"
            ]
          },
          "metadata": {},
          "execution_count": 80
        }
      ]
    },
    {
      "cell_type": "code",
      "source": [
        "y = x * TRUE_W + TRUE_B + noise"
      ],
      "metadata": {
        "id": "SRpsd1NH4Q_s"
      },
      "execution_count": 82,
      "outputs": []
    },
    {
      "cell_type": "code",
      "source": [
        "import matplotlib.pyplot as plt\n",
        "\n",
        "plt.scatter(x, y, c=\"b\")\n",
        "plt.show()"
      ],
      "metadata": {
        "colab": {
          "base_uri": "https://localhost:8080/",
          "height": 265
        },
        "id": "esl2IRnZ4bbE",
        "outputId": "8dec33af-625c-42c1-d911-68e03ff628d7"
      },
      "execution_count": 84,
      "outputs": [
        {
          "output_type": "display_data",
          "data": {
            "text/plain": [
              "<Figure size 432x288 with 1 Axes>"
            ],
            "image/png": "[encoded data removed]"
          },
          "metadata": {
            "needs_background": "light"
          }
        }
      ]
    },
    {
      "cell_type": "markdown",
      "source": [
        "# Lets define a model"
      ],
      "metadata": {
        "id": "aQVqmJVO4uAb"
      }
    },
    {
      "cell_type": "code",
      "source": [
        "class MyModel(tf.Module):\n",
        "  def __init__(self, **kwargs):\n",
        "    super().__init__(**kwargs)\n",
        "\n",
        "    self.w=tf.Variable(5.0)\n",
        "    self.b=tf.Variable(0.0)\n",
        "\n",
        "    def __call__(self, x):\n",
        "      return self.w*x +self.b"
      ],
      "metadata": {
        "id": "7Qy2qKe44oCE"
      },
      "execution_count": 96,
      "outputs": []
    },
    {
      "cell_type": "code",
      "source": [
        "class Test:\n",
        "  def __init__(self,x):\n",
        "    self.x=x\n",
        "\n",
        "  def __call__(self):\n",
        "    return self.x**3"
      ],
      "metadata": {
        "id": "nJgotZfq-o2v"
      },
      "execution_count": 97,
      "outputs": []
    },
    {
      "cell_type": "code",
      "source": [
        "obj=Test(2)\n",
        "obj"
      ],
      "metadata": {
        "colab": {
          "base_uri": "https://localhost:8080/"
        },
        "id": "4wmINqLS_Wyi",
        "outputId": "28256785-b748-4014-ebee-20667ce1e353"
      },
      "execution_count": 98,
      "outputs": [
        {
          "output_type": "execute_result",
          "data": {
            "text/plain": [
              "<__main__.Test at 0x7f52bd78bf10>"
            ]
          },
          "metadata": {},
          "execution_count": 98
        }
      ]
    },
    {
      "cell_type": "code",
      "source": [
        "obj()"
      ],
      "metadata": {
        "colab": {
          "base_uri": "https://localhost:8080/"
        },
        "id": "4dPm0WXB_bKZ",
        "outputId": "fefc8269-c704-4f5d-914a-844ef0581b4b"
      },
      "execution_count": 99,
      "outputs": [
        {
          "output_type": "execute_result",
          "data": {
            "text/plain": [
              "8"
            ]
          },
          "metadata": {},
          "execution_count": 99
        }
      ]
    },
    {
      "cell_type": "code",
      "source": [
        "model = MyModel()"
      ],
      "metadata": {
        "id": "bkTa6cZ1BuK9"
      },
      "execution_count": 100,
      "outputs": []
    },
    {
      "cell_type": "code",
      "source": [
        "model.w"
      ],
      "metadata": {
        "colab": {
          "base_uri": "https://localhost:8080/"
        },
        "id": "qM6TsvpqBw6q",
        "outputId": "fb503ba0-fff7-4068-f5a4-7d0e4f3590c2"
      },
      "execution_count": 101,
      "outputs": [
        {
          "output_type": "execute_result",
          "data": {
            "text/plain": [
              "<tf.Variable 'Variable:0' shape=() dtype=float32, numpy=5.0>"
            ]
          },
          "metadata": {},
          "execution_count": 101
        }
      ]
    },
    {
      "cell_type": "code",
      "source": [
        "model.b"
      ],
      "metadata": {
        "colab": {
          "base_uri": "https://localhost:8080/"
        },
        "id": "aGRRecKCCA5k",
        "outputId": "f22fe261-291c-481e-f554-fdda431e9c11"
      },
      "execution_count": 102,
      "outputs": [
        {
          "output_type": "execute_result",
          "data": {
            "text/plain": [
              "<tf.Variable 'Variable:0' shape=() dtype=float32, numpy=0.0>"
            ]
          },
          "metadata": {},
          "execution_count": 102
        }
      ]
    },
    {
      "cell_type": "code",
      "source": [
        "model.variables"
      ],
      "metadata": {
        "colab": {
          "base_uri": "https://localhost:8080/"
        },
        "id": "Ly-_Eg4BCBvt",
        "outputId": "46f91bc8-db0b-4d7e-9803-472463c503d8"
      },
      "execution_count": 103,
      "outputs": [
        {
          "output_type": "execute_result",
          "data": {
            "text/plain": [
              "(<tf.Variable 'Variable:0' shape=() dtype=float32, numpy=0.0>,\n",
              " <tf.Variable 'Variable:0' shape=() dtype=float32, numpy=5.0>)"
            ]
          },
          "metadata": {},
          "execution_count": 103
        }
      ]
    },
    {
      "cell_type": "code",
      "source": [
        "# Define loss function"
      ],
      "metadata": {
        "id": "aivP6pC_CETG"
      },
      "execution_count": 104,
      "outputs": []
    },
    {
      "cell_type": "code",
      "source": [
        "def MSE_loss(target_y, predicted_y):\n",
        "  error = target_y - predicted_y\n",
        "  squared_error = tf.square(error)\n",
        "  mse = tf.reduce_mean(squared_error)\n",
        "  return mse"
      ],
      "metadata": {
        "id": "3VqYMKLECJJj"
      },
      "execution_count": 105,
      "outputs": []
    },
    {
      "cell_type": "code",
      "source": [
        "plt.scatter(x, y, c=\"b\")\n",
        "\n",
        "pred_y = model(x) ## without training\n",
        "plt.scatter(x, pred_y, c=\"r\") \n",
        "\n",
        "plt.show()"
      ],
      "metadata": {
        "colab": {
          "base_uri": "https://localhost:8080/",
          "height": 483
        },
        "id": "Gs8eYg9tCRfH",
        "outputId": "64d74aaa-2da1-4853-fac4-e27523555be8"
      },
      "execution_count": 108,
      "outputs": [
        {
          "output_type": "error",
          "ename": "TypeError",
          "evalue": "ignored",
          "traceback": [
            "\u001b[0;31m---------------------------------------------------------------------------\u001b[0m",
            "\u001b[0;31mTypeError\u001b[0m                                 Traceback (most recent call last)",
            "\u001b[0;32m<ipython-input-108-3b6f6bc33145>\u001b[0m in \u001b[0;36m<module>\u001b[0;34m\u001b[0m\n\u001b[1;32m      1\u001b[0m \u001b[0mplt\u001b[0m\u001b[0;34m.\u001b[0m\u001b[0mscatter\u001b[0m\u001b[0;34m(\u001b[0m\u001b[0mx\u001b[0m\u001b[0;34m,\u001b[0m \u001b[0my\u001b[0m\u001b[0;34m,\u001b[0m \u001b[0mc\u001b[0m\u001b[0;34m=\u001b[0m\u001b[0;34m\"b\"\u001b[0m\u001b[0;34m)\u001b[0m\u001b[0;34m\u001b[0m\u001b[0;34m\u001b[0m\u001b[0m\n\u001b[1;32m      2\u001b[0m \u001b[0;34m\u001b[0m\u001b[0m\n\u001b[0;32m----> 3\u001b[0;31m \u001b[0mpred_y\u001b[0m \u001b[0;34m=\u001b[0m \u001b[0mmodel\u001b[0m\u001b[0;34m(\u001b[0m\u001b[0mx\u001b[0m\u001b[0;34m)\u001b[0m \u001b[0;31m## without training\u001b[0m\u001b[0;34m\u001b[0m\u001b[0;34m\u001b[0m\u001b[0m\n\u001b[0m\u001b[1;32m      4\u001b[0m \u001b[0mplt\u001b[0m\u001b[0;34m.\u001b[0m\u001b[0mscatter\u001b[0m\u001b[0;34m(\u001b[0m\u001b[0mx\u001b[0m\u001b[0;34m,\u001b[0m \u001b[0mpred_y\u001b[0m\u001b[0;34m,\u001b[0m \u001b[0mc\u001b[0m\u001b[0;34m=\u001b[0m\u001b[0;34m\"r\"\u001b[0m\u001b[0;34m)\u001b[0m\u001b[0;34m\u001b[0m\u001b[0;34m\u001b[0m\u001b[0m\n\u001b[1;32m      5\u001b[0m \u001b[0;34m\u001b[0m\u001b[0m\n",
            "\u001b[0;31mTypeError\u001b[0m: 'MyModel' object is not callable"
          ]
        },
        {
          "output_type": "display_data",
          "data": {
            "text/plain": [
              "<Figure size 432x288 with 1 Axes>"
            ],
            "image/png": "[encoded data removed]"
          },
          "metadata": {
            "needs_background": "light"
          }
        }
      ]
    }
  ]
}